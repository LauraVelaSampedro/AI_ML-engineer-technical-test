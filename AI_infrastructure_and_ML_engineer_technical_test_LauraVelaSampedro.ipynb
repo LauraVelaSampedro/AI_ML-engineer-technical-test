{
  "nbformat": 4,
  "nbformat_minor": 0,
  "metadata": {
    "colab": {
      "name": "AI infrastructure and ML engineer technical test_LauraVelaSampedro.ipynb",
      "provenance": [],
      "collapsed_sections": [
        "oNGZugHLuaB6",
        "kqKPCxXAunJh",
        "zpK5qKyCplM4",
        "RFvdgqtjkTv7",
        "p93ClkIIvgpl",
        "tv8cKHitpGWY",
        "b9KaXQay-mTf"
      ]
    },
    "kernelspec": {
      "display_name": "Python 3",
      "name": "python3"
    },
    "language_info": {
      "name": "python"
    },
    "accelerator": "GPU",
    "widgets": {
      "application/vnd.jupyter.widget-state+json": {
        "b6c0ddec77454da280c8e3dc10d48b25": {
          "model_module": "@jupyter-widgets/controls",
          "model_name": "HBoxModel",
          "model_module_version": "1.5.0",
          "state": {
            "_view_name": "HBoxView",
            "_dom_classes": [],
            "_model_name": "HBoxModel",
            "_view_module": "@jupyter-widgets/controls",
            "_model_module_version": "1.5.0",
            "_view_count": null,
            "_view_module_version": "1.5.0",
            "box_style": "",
            "layout": "IPY_MODEL_458349a6bbd64acebfd8fc20311f0b0f",
            "_model_module": "@jupyter-widgets/controls",
            "children": [
              "IPY_MODEL_14d16cfea5324432893b809a9530c627",
              "IPY_MODEL_5d4602c1028448cf9039d59d3d469fa0",
              "IPY_MODEL_6f1b3e0d66cc4ffe81b7af8d6faa7d9b"
            ]
          }
        },
        "458349a6bbd64acebfd8fc20311f0b0f": {
          "model_module": "@jupyter-widgets/base",
          "model_name": "LayoutModel",
          "model_module_version": "1.2.0",
          "state": {
            "_view_name": "LayoutView",
            "grid_template_rows": null,
            "right": null,
            "justify_content": null,
            "_view_module": "@jupyter-widgets/base",
            "overflow": null,
            "_model_module_version": "1.2.0",
            "_view_count": null,
            "flex_flow": null,
            "width": null,
            "min_width": null,
            "border": null,
            "align_items": null,
            "bottom": null,
            "_model_module": "@jupyter-widgets/base",
            "top": null,
            "grid_column": null,
            "overflow_y": null,
            "overflow_x": null,
            "grid_auto_flow": null,
            "grid_area": null,
            "grid_template_columns": null,
            "flex": null,
            "_model_name": "LayoutModel",
            "justify_items": null,
            "grid_row": null,
            "max_height": null,
            "align_content": null,
            "visibility": null,
            "align_self": null,
            "height": null,
            "min_height": null,
            "padding": null,
            "grid_auto_rows": null,
            "grid_gap": null,
            "max_width": null,
            "order": null,
            "_view_module_version": "1.2.0",
            "grid_template_areas": null,
            "object_position": null,
            "object_fit": null,
            "grid_auto_columns": null,
            "margin": null,
            "display": null,
            "left": null
          }
        },
        "14d16cfea5324432893b809a9530c627": {
          "model_module": "@jupyter-widgets/controls",
          "model_name": "HTMLModel",
          "model_module_version": "1.5.0",
          "state": {
            "_view_name": "HTMLView",
            "style": "IPY_MODEL_254cc5bddc1645b4b9f9a5a27d0263de",
            "_dom_classes": [],
            "description": "",
            "_model_name": "HTMLModel",
            "placeholder": "​",
            "_view_module": "@jupyter-widgets/controls",
            "_model_module_version": "1.5.0",
            "value": "Downloading: 100%",
            "_view_count": null,
            "_view_module_version": "1.5.0",
            "description_tooltip": null,
            "_model_module": "@jupyter-widgets/controls",
            "layout": "IPY_MODEL_b7f2eb14678444d084f5fb459f1b0670"
          }
        },
        "5d4602c1028448cf9039d59d3d469fa0": {
          "model_module": "@jupyter-widgets/controls",
          "model_name": "FloatProgressModel",
          "model_module_version": "1.5.0",
          "state": {
            "_view_name": "ProgressView",
            "style": "IPY_MODEL_6efb1cd4f0df4035949932f4435eb8e5",
            "_dom_classes": [],
            "description": "",
            "_model_name": "FloatProgressModel",
            "bar_style": "success",
            "max": 231508,
            "_view_module": "@jupyter-widgets/controls",
            "_model_module_version": "1.5.0",
            "value": 231508,
            "_view_count": null,
            "_view_module_version": "1.5.0",
            "orientation": "horizontal",
            "min": 0,
            "description_tooltip": null,
            "_model_module": "@jupyter-widgets/controls",
            "layout": "IPY_MODEL_42c9874aedba4987a228dfe672aefc36"
          }
        },
        "6f1b3e0d66cc4ffe81b7af8d6faa7d9b": {
          "model_module": "@jupyter-widgets/controls",
          "model_name": "HTMLModel",
          "model_module_version": "1.5.0",
          "state": {
            "_view_name": "HTMLView",
            "style": "IPY_MODEL_b88097ca21ff4b068afe6ea777bb3eb6",
            "_dom_classes": [],
            "description": "",
            "_model_name": "HTMLModel",
            "placeholder": "​",
            "_view_module": "@jupyter-widgets/controls",
            "_model_module_version": "1.5.0",
            "value": " 232k/232k [00:00&lt;00:00, 564kB/s]",
            "_view_count": null,
            "_view_module_version": "1.5.0",
            "description_tooltip": null,
            "_model_module": "@jupyter-widgets/controls",
            "layout": "IPY_MODEL_80b4f3898ca14fe5ae83c81a5fbc8b23"
          }
        },
        "254cc5bddc1645b4b9f9a5a27d0263de": {
          "model_module": "@jupyter-widgets/controls",
          "model_name": "DescriptionStyleModel",
          "model_module_version": "1.5.0",
          "state": {
            "_view_name": "StyleView",
            "_model_name": "DescriptionStyleModel",
            "description_width": "",
            "_view_module": "@jupyter-widgets/base",
            "_model_module_version": "1.5.0",
            "_view_count": null,
            "_view_module_version": "1.2.0",
            "_model_module": "@jupyter-widgets/controls"
          }
        },
        "b7f2eb14678444d084f5fb459f1b0670": {
          "model_module": "@jupyter-widgets/base",
          "model_name": "LayoutModel",
          "model_module_version": "1.2.0",
          "state": {
            "_view_name": "LayoutView",
            "grid_template_rows": null,
            "right": null,
            "justify_content": null,
            "_view_module": "@jupyter-widgets/base",
            "overflow": null,
            "_model_module_version": "1.2.0",
            "_view_count": null,
            "flex_flow": null,
            "width": null,
            "min_width": null,
            "border": null,
            "align_items": null,
            "bottom": null,
            "_model_module": "@jupyter-widgets/base",
            "top": null,
            "grid_column": null,
            "overflow_y": null,
            "overflow_x": null,
            "grid_auto_flow": null,
            "grid_area": null,
            "grid_template_columns": null,
            "flex": null,
            "_model_name": "LayoutModel",
            "justify_items": null,
            "grid_row": null,
            "max_height": null,
            "align_content": null,
            "visibility": null,
            "align_self": null,
            "height": null,
            "min_height": null,
            "padding": null,
            "grid_auto_rows": null,
            "grid_gap": null,
            "max_width": null,
            "order": null,
            "_view_module_version": "1.2.0",
            "grid_template_areas": null,
            "object_position": null,
            "object_fit": null,
            "grid_auto_columns": null,
            "margin": null,
            "display": null,
            "left": null
          }
        },
        "6efb1cd4f0df4035949932f4435eb8e5": {
          "model_module": "@jupyter-widgets/controls",
          "model_name": "ProgressStyleModel",
          "model_module_version": "1.5.0",
          "state": {
            "_view_name": "StyleView",
            "_model_name": "ProgressStyleModel",
            "description_width": "",
            "_view_module": "@jupyter-widgets/base",
            "_model_module_version": "1.5.0",
            "_view_count": null,
            "_view_module_version": "1.2.0",
            "bar_color": null,
            "_model_module": "@jupyter-widgets/controls"
          }
        },
        "42c9874aedba4987a228dfe672aefc36": {
          "model_module": "@jupyter-widgets/base",
          "model_name": "LayoutModel",
          "model_module_version": "1.2.0",
          "state": {
            "_view_name": "LayoutView",
            "grid_template_rows": null,
            "right": null,
            "justify_content": null,
            "_view_module": "@jupyter-widgets/base",
            "overflow": null,
            "_model_module_version": "1.2.0",
            "_view_count": null,
            "flex_flow": null,
            "width": null,
            "min_width": null,
            "border": null,
            "align_items": null,
            "bottom": null,
            "_model_module": "@jupyter-widgets/base",
            "top": null,
            "grid_column": null,
            "overflow_y": null,
            "overflow_x": null,
            "grid_auto_flow": null,
            "grid_area": null,
            "grid_template_columns": null,
            "flex": null,
            "_model_name": "LayoutModel",
            "justify_items": null,
            "grid_row": null,
            "max_height": null,
            "align_content": null,
            "visibility": null,
            "align_self": null,
            "height": null,
            "min_height": null,
            "padding": null,
            "grid_auto_rows": null,
            "grid_gap": null,
            "max_width": null,
            "order": null,
            "_view_module_version": "1.2.0",
            "grid_template_areas": null,
            "object_position": null,
            "object_fit": null,
            "grid_auto_columns": null,
            "margin": null,
            "display": null,
            "left": null
          }
        },
        "b88097ca21ff4b068afe6ea777bb3eb6": {
          "model_module": "@jupyter-widgets/controls",
          "model_name": "DescriptionStyleModel",
          "model_module_version": "1.5.0",
          "state": {
            "_view_name": "StyleView",
            "_model_name": "DescriptionStyleModel",
            "description_width": "",
            "_view_module": "@jupyter-widgets/base",
            "_model_module_version": "1.5.0",
            "_view_count": null,
            "_view_module_version": "1.2.0",
            "_model_module": "@jupyter-widgets/controls"
          }
        },
        "80b4f3898ca14fe5ae83c81a5fbc8b23": {
          "model_module": "@jupyter-widgets/base",
          "model_name": "LayoutModel",
          "model_module_version": "1.2.0",
          "state": {
            "_view_name": "LayoutView",
            "grid_template_rows": null,
            "right": null,
            "justify_content": null,
            "_view_module": "@jupyter-widgets/base",
            "overflow": null,
            "_model_module_version": "1.2.0",
            "_view_count": null,
            "flex_flow": null,
            "width": null,
            "min_width": null,
            "border": null,
            "align_items": null,
            "bottom": null,
            "_model_module": "@jupyter-widgets/base",
            "top": null,
            "grid_column": null,
            "overflow_y": null,
            "overflow_x": null,
            "grid_auto_flow": null,
            "grid_area": null,
            "grid_template_columns": null,
            "flex": null,
            "_model_name": "LayoutModel",
            "justify_items": null,
            "grid_row": null,
            "max_height": null,
            "align_content": null,
            "visibility": null,
            "align_self": null,
            "height": null,
            "min_height": null,
            "padding": null,
            "grid_auto_rows": null,
            "grid_gap": null,
            "max_width": null,
            "order": null,
            "_view_module_version": "1.2.0",
            "grid_template_areas": null,
            "object_position": null,
            "object_fit": null,
            "grid_auto_columns": null,
            "margin": null,
            "display": null,
            "left": null
          }
        },
        "98d2e68abfb6449ea1d90a4c3e6fdad4": {
          "model_module": "@jupyter-widgets/controls",
          "model_name": "HBoxModel",
          "model_module_version": "1.5.0",
          "state": {
            "_view_name": "HBoxView",
            "_dom_classes": [],
            "_model_name": "HBoxModel",
            "_view_module": "@jupyter-widgets/controls",
            "_model_module_version": "1.5.0",
            "_view_count": null,
            "_view_module_version": "1.5.0",
            "box_style": "",
            "layout": "IPY_MODEL_df3f40239c8f428a81cf4aa1a489ae45",
            "_model_module": "@jupyter-widgets/controls",
            "children": [
              "IPY_MODEL_03a17870e3094649962761f6574fe23d",
              "IPY_MODEL_c2b1fa8e01a148dc879309d0c69a1ef2",
              "IPY_MODEL_cf1b2d25c3d245fbaf5a6509985f80e1"
            ]
          }
        },
        "df3f40239c8f428a81cf4aa1a489ae45": {
          "model_module": "@jupyter-widgets/base",
          "model_name": "LayoutModel",
          "model_module_version": "1.2.0",
          "state": {
            "_view_name": "LayoutView",
            "grid_template_rows": null,
            "right": null,
            "justify_content": null,
            "_view_module": "@jupyter-widgets/base",
            "overflow": null,
            "_model_module_version": "1.2.0",
            "_view_count": null,
            "flex_flow": null,
            "width": null,
            "min_width": null,
            "border": null,
            "align_items": null,
            "bottom": null,
            "_model_module": "@jupyter-widgets/base",
            "top": null,
            "grid_column": null,
            "overflow_y": null,
            "overflow_x": null,
            "grid_auto_flow": null,
            "grid_area": null,
            "grid_template_columns": null,
            "flex": null,
            "_model_name": "LayoutModel",
            "justify_items": null,
            "grid_row": null,
            "max_height": null,
            "align_content": null,
            "visibility": null,
            "align_self": null,
            "height": null,
            "min_height": null,
            "padding": null,
            "grid_auto_rows": null,
            "grid_gap": null,
            "max_width": null,
            "order": null,
            "_view_module_version": "1.2.0",
            "grid_template_areas": null,
            "object_position": null,
            "object_fit": null,
            "grid_auto_columns": null,
            "margin": null,
            "display": null,
            "left": null
          }
        },
        "03a17870e3094649962761f6574fe23d": {
          "model_module": "@jupyter-widgets/controls",
          "model_name": "HTMLModel",
          "model_module_version": "1.5.0",
          "state": {
            "_view_name": "HTMLView",
            "style": "IPY_MODEL_e2d22916e75f4f109e5a9a37a1aa6681",
            "_dom_classes": [],
            "description": "",
            "_model_name": "HTMLModel",
            "placeholder": "​",
            "_view_module": "@jupyter-widgets/controls",
            "_model_module_version": "1.5.0",
            "value": "Downloading: 100%",
            "_view_count": null,
            "_view_module_version": "1.5.0",
            "description_tooltip": null,
            "_model_module": "@jupyter-widgets/controls",
            "layout": "IPY_MODEL_06b5de3645e9424cb142376a8691a638"
          }
        },
        "c2b1fa8e01a148dc879309d0c69a1ef2": {
          "model_module": "@jupyter-widgets/controls",
          "model_name": "FloatProgressModel",
          "model_module_version": "1.5.0",
          "state": {
            "_view_name": "ProgressView",
            "style": "IPY_MODEL_3391f03a12f3451ea1ecb56160cc5b89",
            "_dom_classes": [],
            "description": "",
            "_model_name": "FloatProgressModel",
            "bar_style": "success",
            "max": 28,
            "_view_module": "@jupyter-widgets/controls",
            "_model_module_version": "1.5.0",
            "value": 28,
            "_view_count": null,
            "_view_module_version": "1.5.0",
            "orientation": "horizontal",
            "min": 0,
            "description_tooltip": null,
            "_model_module": "@jupyter-widgets/controls",
            "layout": "IPY_MODEL_8e9ce60a7eea490ba957d86680994499"
          }
        },
        "cf1b2d25c3d245fbaf5a6509985f80e1": {
          "model_module": "@jupyter-widgets/controls",
          "model_name": "HTMLModel",
          "model_module_version": "1.5.0",
          "state": {
            "_view_name": "HTMLView",
            "style": "IPY_MODEL_060c058f2f354373ab25865288960ed4",
            "_dom_classes": [],
            "description": "",
            "_model_name": "HTMLModel",
            "placeholder": "​",
            "_view_module": "@jupyter-widgets/controls",
            "_model_module_version": "1.5.0",
            "value": " 28.0/28.0 [00:00&lt;00:00, 614B/s]",
            "_view_count": null,
            "_view_module_version": "1.5.0",
            "description_tooltip": null,
            "_model_module": "@jupyter-widgets/controls",
            "layout": "IPY_MODEL_7db25bd559284afc990136e166182b13"
          }
        },
        "e2d22916e75f4f109e5a9a37a1aa6681": {
          "model_module": "@jupyter-widgets/controls",
          "model_name": "DescriptionStyleModel",
          "model_module_version": "1.5.0",
          "state": {
            "_view_name": "StyleView",
            "_model_name": "DescriptionStyleModel",
            "description_width": "",
            "_view_module": "@jupyter-widgets/base",
            "_model_module_version": "1.5.0",
            "_view_count": null,
            "_view_module_version": "1.2.0",
            "_model_module": "@jupyter-widgets/controls"
          }
        },
        "06b5de3645e9424cb142376a8691a638": {
          "model_module": "@jupyter-widgets/base",
          "model_name": "LayoutModel",
          "model_module_version": "1.2.0",
          "state": {
            "_view_name": "LayoutView",
            "grid_template_rows": null,
            "right": null,
            "justify_content": null,
            "_view_module": "@jupyter-widgets/base",
            "overflow": null,
            "_model_module_version": "1.2.0",
            "_view_count": null,
            "flex_flow": null,
            "width": null,
            "min_width": null,
            "border": null,
            "align_items": null,
            "bottom": null,
            "_model_module": "@jupyter-widgets/base",
            "top": null,
            "grid_column": null,
            "overflow_y": null,
            "overflow_x": null,
            "grid_auto_flow": null,
            "grid_area": null,
            "grid_template_columns": null,
            "flex": null,
            "_model_name": "LayoutModel",
            "justify_items": null,
            "grid_row": null,
            "max_height": null,
            "align_content": null,
            "visibility": null,
            "align_self": null,
            "height": null,
            "min_height": null,
            "padding": null,
            "grid_auto_rows": null,
            "grid_gap": null,
            "max_width": null,
            "order": null,
            "_view_module_version": "1.2.0",
            "grid_template_areas": null,
            "object_position": null,
            "object_fit": null,
            "grid_auto_columns": null,
            "margin": null,
            "display": null,
            "left": null
          }
        },
        "3391f03a12f3451ea1ecb56160cc5b89": {
          "model_module": "@jupyter-widgets/controls",
          "model_name": "ProgressStyleModel",
          "model_module_version": "1.5.0",
          "state": {
            "_view_name": "StyleView",
            "_model_name": "ProgressStyleModel",
            "description_width": "",
            "_view_module": "@jupyter-widgets/base",
            "_model_module_version": "1.5.0",
            "_view_count": null,
            "_view_module_version": "1.2.0",
            "bar_color": null,
            "_model_module": "@jupyter-widgets/controls"
          }
        },
        "8e9ce60a7eea490ba957d86680994499": {
          "model_module": "@jupyter-widgets/base",
          "model_name": "LayoutModel",
          "model_module_version": "1.2.0",
          "state": {
            "_view_name": "LayoutView",
            "grid_template_rows": null,
            "right": null,
            "justify_content": null,
            "_view_module": "@jupyter-widgets/base",
            "overflow": null,
            "_model_module_version": "1.2.0",
            "_view_count": null,
            "flex_flow": null,
            "width": null,
            "min_width": null,
            "border": null,
            "align_items": null,
            "bottom": null,
            "_model_module": "@jupyter-widgets/base",
            "top": null,
            "grid_column": null,
            "overflow_y": null,
            "overflow_x": null,
            "grid_auto_flow": null,
            "grid_area": null,
            "grid_template_columns": null,
            "flex": null,
            "_model_name": "LayoutModel",
            "justify_items": null,
            "grid_row": null,
            "max_height": null,
            "align_content": null,
            "visibility": null,
            "align_self": null,
            "height": null,
            "min_height": null,
            "padding": null,
            "grid_auto_rows": null,
            "grid_gap": null,
            "max_width": null,
            "order": null,
            "_view_module_version": "1.2.0",
            "grid_template_areas": null,
            "object_position": null,
            "object_fit": null,
            "grid_auto_columns": null,
            "margin": null,
            "display": null,
            "left": null
          }
        },
        "060c058f2f354373ab25865288960ed4": {
          "model_module": "@jupyter-widgets/controls",
          "model_name": "DescriptionStyleModel",
          "model_module_version": "1.5.0",
          "state": {
            "_view_name": "StyleView",
            "_model_name": "DescriptionStyleModel",
            "description_width": "",
            "_view_module": "@jupyter-widgets/base",
            "_model_module_version": "1.5.0",
            "_view_count": null,
            "_view_module_version": "1.2.0",
            "_model_module": "@jupyter-widgets/controls"
          }
        },
        "7db25bd559284afc990136e166182b13": {
          "model_module": "@jupyter-widgets/base",
          "model_name": "LayoutModel",
          "model_module_version": "1.2.0",
          "state": {
            "_view_name": "LayoutView",
            "grid_template_rows": null,
            "right": null,
            "justify_content": null,
            "_view_module": "@jupyter-widgets/base",
            "overflow": null,
            "_model_module_version": "1.2.0",
            "_view_count": null,
            "flex_flow": null,
            "width": null,
            "min_width": null,
            "border": null,
            "align_items": null,
            "bottom": null,
            "_model_module": "@jupyter-widgets/base",
            "top": null,
            "grid_column": null,
            "overflow_y": null,
            "overflow_x": null,
            "grid_auto_flow": null,
            "grid_area": null,
            "grid_template_columns": null,
            "flex": null,
            "_model_name": "LayoutModel",
            "justify_items": null,
            "grid_row": null,
            "max_height": null,
            "align_content": null,
            "visibility": null,
            "align_self": null,
            "height": null,
            "min_height": null,
            "padding": null,
            "grid_auto_rows": null,
            "grid_gap": null,
            "max_width": null,
            "order": null,
            "_view_module_version": "1.2.0",
            "grid_template_areas": null,
            "object_position": null,
            "object_fit": null,
            "grid_auto_columns": null,
            "margin": null,
            "display": null,
            "left": null
          }
        },
        "448addc114704cf88c45acc7f7eafb68": {
          "model_module": "@jupyter-widgets/controls",
          "model_name": "HBoxModel",
          "model_module_version": "1.5.0",
          "state": {
            "_view_name": "HBoxView",
            "_dom_classes": [],
            "_model_name": "HBoxModel",
            "_view_module": "@jupyter-widgets/controls",
            "_model_module_version": "1.5.0",
            "_view_count": null,
            "_view_module_version": "1.5.0",
            "box_style": "",
            "layout": "IPY_MODEL_a434b219e5e74d70b2ec8cf829292a9e",
            "_model_module": "@jupyter-widgets/controls",
            "children": [
              "IPY_MODEL_15c1f44081694e53bd4fae8303b16b14",
              "IPY_MODEL_a50d163ec8cd46aa9307aa4b16f9ef0c",
              "IPY_MODEL_0f846adabb924f4f9c121f1ebaa7ade6"
            ]
          }
        },
        "a434b219e5e74d70b2ec8cf829292a9e": {
          "model_module": "@jupyter-widgets/base",
          "model_name": "LayoutModel",
          "model_module_version": "1.2.0",
          "state": {
            "_view_name": "LayoutView",
            "grid_template_rows": null,
            "right": null,
            "justify_content": null,
            "_view_module": "@jupyter-widgets/base",
            "overflow": null,
            "_model_module_version": "1.2.0",
            "_view_count": null,
            "flex_flow": null,
            "width": null,
            "min_width": null,
            "border": null,
            "align_items": null,
            "bottom": null,
            "_model_module": "@jupyter-widgets/base",
            "top": null,
            "grid_column": null,
            "overflow_y": null,
            "overflow_x": null,
            "grid_auto_flow": null,
            "grid_area": null,
            "grid_template_columns": null,
            "flex": null,
            "_model_name": "LayoutModel",
            "justify_items": null,
            "grid_row": null,
            "max_height": null,
            "align_content": null,
            "visibility": null,
            "align_self": null,
            "height": null,
            "min_height": null,
            "padding": null,
            "grid_auto_rows": null,
            "grid_gap": null,
            "max_width": null,
            "order": null,
            "_view_module_version": "1.2.0",
            "grid_template_areas": null,
            "object_position": null,
            "object_fit": null,
            "grid_auto_columns": null,
            "margin": null,
            "display": null,
            "left": null
          }
        },
        "15c1f44081694e53bd4fae8303b16b14": {
          "model_module": "@jupyter-widgets/controls",
          "model_name": "HTMLModel",
          "model_module_version": "1.5.0",
          "state": {
            "_view_name": "HTMLView",
            "style": "IPY_MODEL_d30fb553552c4b2d8646a969cb4db417",
            "_dom_classes": [],
            "description": "",
            "_model_name": "HTMLModel",
            "placeholder": "​",
            "_view_module": "@jupyter-widgets/controls",
            "_model_module_version": "1.5.0",
            "value": "Downloading: 100%",
            "_view_count": null,
            "_view_module_version": "1.5.0",
            "description_tooltip": null,
            "_model_module": "@jupyter-widgets/controls",
            "layout": "IPY_MODEL_2efddb43ffb04973b49fa9f2a4fb7984"
          }
        },
        "a50d163ec8cd46aa9307aa4b16f9ef0c": {
          "model_module": "@jupyter-widgets/controls",
          "model_name": "FloatProgressModel",
          "model_module_version": "1.5.0",
          "state": {
            "_view_name": "ProgressView",
            "style": "IPY_MODEL_78a234a019384085bc9e2f3bd5964811",
            "_dom_classes": [],
            "description": "",
            "_model_name": "FloatProgressModel",
            "bar_style": "success",
            "max": 466062,
            "_view_module": "@jupyter-widgets/controls",
            "_model_module_version": "1.5.0",
            "value": 466062,
            "_view_count": null,
            "_view_module_version": "1.5.0",
            "orientation": "horizontal",
            "min": 0,
            "description_tooltip": null,
            "_model_module": "@jupyter-widgets/controls",
            "layout": "IPY_MODEL_eea680586f2b494794d8fa626aa9ca42"
          }
        },
        "0f846adabb924f4f9c121f1ebaa7ade6": {
          "model_module": "@jupyter-widgets/controls",
          "model_name": "HTMLModel",
          "model_module_version": "1.5.0",
          "state": {
            "_view_name": "HTMLView",
            "style": "IPY_MODEL_3e37c14ea394462e9ebb3eb2bb4f782b",
            "_dom_classes": [],
            "description": "",
            "_model_name": "HTMLModel",
            "placeholder": "​",
            "_view_module": "@jupyter-widgets/controls",
            "_model_module_version": "1.5.0",
            "value": " 466k/466k [00:00&lt;00:00, 658kB/s]",
            "_view_count": null,
            "_view_module_version": "1.5.0",
            "description_tooltip": null,
            "_model_module": "@jupyter-widgets/controls",
            "layout": "IPY_MODEL_3441643c3d6141c5825ebda6b1f50152"
          }
        },
        "d30fb553552c4b2d8646a969cb4db417": {
          "model_module": "@jupyter-widgets/controls",
          "model_name": "DescriptionStyleModel",
          "model_module_version": "1.5.0",
          "state": {
            "_view_name": "StyleView",
            "_model_name": "DescriptionStyleModel",
            "description_width": "",
            "_view_module": "@jupyter-widgets/base",
            "_model_module_version": "1.5.0",
            "_view_count": null,
            "_view_module_version": "1.2.0",
            "_model_module": "@jupyter-widgets/controls"
          }
        },
        "2efddb43ffb04973b49fa9f2a4fb7984": {
          "model_module": "@jupyter-widgets/base",
          "model_name": "LayoutModel",
          "model_module_version": "1.2.0",
          "state": {
            "_view_name": "LayoutView",
            "grid_template_rows": null,
            "right": null,
            "justify_content": null,
            "_view_module": "@jupyter-widgets/base",
            "overflow": null,
            "_model_module_version": "1.2.0",
            "_view_count": null,
            "flex_flow": null,
            "width": null,
            "min_width": null,
            "border": null,
            "align_items": null,
            "bottom": null,
            "_model_module": "@jupyter-widgets/base",
            "top": null,
            "grid_column": null,
            "overflow_y": null,
            "overflow_x": null,
            "grid_auto_flow": null,
            "grid_area": null,
            "grid_template_columns": null,
            "flex": null,
            "_model_name": "LayoutModel",
            "justify_items": null,
            "grid_row": null,
            "max_height": null,
            "align_content": null,
            "visibility": null,
            "align_self": null,
            "height": null,
            "min_height": null,
            "padding": null,
            "grid_auto_rows": null,
            "grid_gap": null,
            "max_width": null,
            "order": null,
            "_view_module_version": "1.2.0",
            "grid_template_areas": null,
            "object_position": null,
            "object_fit": null,
            "grid_auto_columns": null,
            "margin": null,
            "display": null,
            "left": null
          }
        },
        "78a234a019384085bc9e2f3bd5964811": {
          "model_module": "@jupyter-widgets/controls",
          "model_name": "ProgressStyleModel",
          "model_module_version": "1.5.0",
          "state": {
            "_view_name": "StyleView",
            "_model_name": "ProgressStyleModel",
            "description_width": "",
            "_view_module": "@jupyter-widgets/base",
            "_model_module_version": "1.5.0",
            "_view_count": null,
            "_view_module_version": "1.2.0",
            "bar_color": null,
            "_model_module": "@jupyter-widgets/controls"
          }
        },
        "eea680586f2b494794d8fa626aa9ca42": {
          "model_module": "@jupyter-widgets/base",
          "model_name": "LayoutModel",
          "model_module_version": "1.2.0",
          "state": {
            "_view_name": "LayoutView",
            "grid_template_rows": null,
            "right": null,
            "justify_content": null,
            "_view_module": "@jupyter-widgets/base",
            "overflow": null,
            "_model_module_version": "1.2.0",
            "_view_count": null,
            "flex_flow": null,
            "width": null,
            "min_width": null,
            "border": null,
            "align_items": null,
            "bottom": null,
            "_model_module": "@jupyter-widgets/base",
            "top": null,
            "grid_column": null,
            "overflow_y": null,
            "overflow_x": null,
            "grid_auto_flow": null,
            "grid_area": null,
            "grid_template_columns": null,
            "flex": null,
            "_model_name": "LayoutModel",
            "justify_items": null,
            "grid_row": null,
            "max_height": null,
            "align_content": null,
            "visibility": null,
            "align_self": null,
            "height": null,
            "min_height": null,
            "padding": null,
            "grid_auto_rows": null,
            "grid_gap": null,
            "max_width": null,
            "order": null,
            "_view_module_version": "1.2.0",
            "grid_template_areas": null,
            "object_position": null,
            "object_fit": null,
            "grid_auto_columns": null,
            "margin": null,
            "display": null,
            "left": null
          }
        },
        "3e37c14ea394462e9ebb3eb2bb4f782b": {
          "model_module": "@jupyter-widgets/controls",
          "model_name": "DescriptionStyleModel",
          "model_module_version": "1.5.0",
          "state": {
            "_view_name": "StyleView",
            "_model_name": "DescriptionStyleModel",
            "description_width": "",
            "_view_module": "@jupyter-widgets/base",
            "_model_module_version": "1.5.0",
            "_view_count": null,
            "_view_module_version": "1.2.0",
            "_model_module": "@jupyter-widgets/controls"
          }
        },
        "3441643c3d6141c5825ebda6b1f50152": {
          "model_module": "@jupyter-widgets/base",
          "model_name": "LayoutModel",
          "model_module_version": "1.2.0",
          "state": {
            "_view_name": "LayoutView",
            "grid_template_rows": null,
            "right": null,
            "justify_content": null,
            "_view_module": "@jupyter-widgets/base",
            "overflow": null,
            "_model_module_version": "1.2.0",
            "_view_count": null,
            "flex_flow": null,
            "width": null,
            "min_width": null,
            "border": null,
            "align_items": null,
            "bottom": null,
            "_model_module": "@jupyter-widgets/base",
            "top": null,
            "grid_column": null,
            "overflow_y": null,
            "overflow_x": null,
            "grid_auto_flow": null,
            "grid_area": null,
            "grid_template_columns": null,
            "flex": null,
            "_model_name": "LayoutModel",
            "justify_items": null,
            "grid_row": null,
            "max_height": null,
            "align_content": null,
            "visibility": null,
            "align_self": null,
            "height": null,
            "min_height": null,
            "padding": null,
            "grid_auto_rows": null,
            "grid_gap": null,
            "max_width": null,
            "order": null,
            "_view_module_version": "1.2.0",
            "grid_template_areas": null,
            "object_position": null,
            "object_fit": null,
            "grid_auto_columns": null,
            "margin": null,
            "display": null,
            "left": null
          }
        },
        "969d135feae34460b0f324e47f23bbbb": {
          "model_module": "@jupyter-widgets/controls",
          "model_name": "HBoxModel",
          "model_module_version": "1.5.0",
          "state": {
            "_view_name": "HBoxView",
            "_dom_classes": [],
            "_model_name": "HBoxModel",
            "_view_module": "@jupyter-widgets/controls",
            "_model_module_version": "1.5.0",
            "_view_count": null,
            "_view_module_version": "1.5.0",
            "box_style": "",
            "layout": "IPY_MODEL_1d43ecac14a745669253b8cb2b5f5865",
            "_model_module": "@jupyter-widgets/controls",
            "children": [
              "IPY_MODEL_9074ea7ecc944b13a91fe097de64064d",
              "IPY_MODEL_e4f4e66c9fb44515a163fea8bc3aac41",
              "IPY_MODEL_ab3cd9cd16294802b0c78ee41c67c53b"
            ]
          }
        },
        "1d43ecac14a745669253b8cb2b5f5865": {
          "model_module": "@jupyter-widgets/base",
          "model_name": "LayoutModel",
          "model_module_version": "1.2.0",
          "state": {
            "_view_name": "LayoutView",
            "grid_template_rows": null,
            "right": null,
            "justify_content": null,
            "_view_module": "@jupyter-widgets/base",
            "overflow": null,
            "_model_module_version": "1.2.0",
            "_view_count": null,
            "flex_flow": null,
            "width": null,
            "min_width": null,
            "border": null,
            "align_items": null,
            "bottom": null,
            "_model_module": "@jupyter-widgets/base",
            "top": null,
            "grid_column": null,
            "overflow_y": null,
            "overflow_x": null,
            "grid_auto_flow": null,
            "grid_area": null,
            "grid_template_columns": null,
            "flex": null,
            "_model_name": "LayoutModel",
            "justify_items": null,
            "grid_row": null,
            "max_height": null,
            "align_content": null,
            "visibility": null,
            "align_self": null,
            "height": null,
            "min_height": null,
            "padding": null,
            "grid_auto_rows": null,
            "grid_gap": null,
            "max_width": null,
            "order": null,
            "_view_module_version": "1.2.0",
            "grid_template_areas": null,
            "object_position": null,
            "object_fit": null,
            "grid_auto_columns": null,
            "margin": null,
            "display": null,
            "left": null
          }
        },
        "9074ea7ecc944b13a91fe097de64064d": {
          "model_module": "@jupyter-widgets/controls",
          "model_name": "HTMLModel",
          "model_module_version": "1.5.0",
          "state": {
            "_view_name": "HTMLView",
            "style": "IPY_MODEL_db17200f40f14e1dbfe55b382fb07ce6",
            "_dom_classes": [],
            "description": "",
            "_model_name": "HTMLModel",
            "placeholder": "​",
            "_view_module": "@jupyter-widgets/controls",
            "_model_module_version": "1.5.0",
            "value": "Downloading: 100%",
            "_view_count": null,
            "_view_module_version": "1.5.0",
            "description_tooltip": null,
            "_model_module": "@jupyter-widgets/controls",
            "layout": "IPY_MODEL_897676b278014a6eb403e8e44948e8d4"
          }
        },
        "e4f4e66c9fb44515a163fea8bc3aac41": {
          "model_module": "@jupyter-widgets/controls",
          "model_name": "FloatProgressModel",
          "model_module_version": "1.5.0",
          "state": {
            "_view_name": "ProgressView",
            "style": "IPY_MODEL_e29f62e0c24549008e431bad512b42de",
            "_dom_classes": [],
            "description": "",
            "_model_name": "FloatProgressModel",
            "bar_style": "success",
            "max": 570,
            "_view_module": "@jupyter-widgets/controls",
            "_model_module_version": "1.5.0",
            "value": 570,
            "_view_count": null,
            "_view_module_version": "1.5.0",
            "orientation": "horizontal",
            "min": 0,
            "description_tooltip": null,
            "_model_module": "@jupyter-widgets/controls",
            "layout": "IPY_MODEL_07a6ab7995bf4bc0b8b7f9b6239e6930"
          }
        },
        "ab3cd9cd16294802b0c78ee41c67c53b": {
          "model_module": "@jupyter-widgets/controls",
          "model_name": "HTMLModel",
          "model_module_version": "1.5.0",
          "state": {
            "_view_name": "HTMLView",
            "style": "IPY_MODEL_8e7a9498b1e4490899ce17383866e5fa",
            "_dom_classes": [],
            "description": "",
            "_model_name": "HTMLModel",
            "placeholder": "​",
            "_view_module": "@jupyter-widgets/controls",
            "_model_module_version": "1.5.0",
            "value": " 570/570 [00:00&lt;00:00, 12.7kB/s]",
            "_view_count": null,
            "_view_module_version": "1.5.0",
            "description_tooltip": null,
            "_model_module": "@jupyter-widgets/controls",
            "layout": "IPY_MODEL_40a3792c7bac4362bcc619e3b8775895"
          }
        },
        "db17200f40f14e1dbfe55b382fb07ce6": {
          "model_module": "@jupyter-widgets/controls",
          "model_name": "DescriptionStyleModel",
          "model_module_version": "1.5.0",
          "state": {
            "_view_name": "StyleView",
            "_model_name": "DescriptionStyleModel",
            "description_width": "",
            "_view_module": "@jupyter-widgets/base",
            "_model_module_version": "1.5.0",
            "_view_count": null,
            "_view_module_version": "1.2.0",
            "_model_module": "@jupyter-widgets/controls"
          }
        },
        "897676b278014a6eb403e8e44948e8d4": {
          "model_module": "@jupyter-widgets/base",
          "model_name": "LayoutModel",
          "model_module_version": "1.2.0",
          "state": {
            "_view_name": "LayoutView",
            "grid_template_rows": null,
            "right": null,
            "justify_content": null,
            "_view_module": "@jupyter-widgets/base",
            "overflow": null,
            "_model_module_version": "1.2.0",
            "_view_count": null,
            "flex_flow": null,
            "width": null,
            "min_width": null,
            "border": null,
            "align_items": null,
            "bottom": null,
            "_model_module": "@jupyter-widgets/base",
            "top": null,
            "grid_column": null,
            "overflow_y": null,
            "overflow_x": null,
            "grid_auto_flow": null,
            "grid_area": null,
            "grid_template_columns": null,
            "flex": null,
            "_model_name": "LayoutModel",
            "justify_items": null,
            "grid_row": null,
            "max_height": null,
            "align_content": null,
            "visibility": null,
            "align_self": null,
            "height": null,
            "min_height": null,
            "padding": null,
            "grid_auto_rows": null,
            "grid_gap": null,
            "max_width": null,
            "order": null,
            "_view_module_version": "1.2.0",
            "grid_template_areas": null,
            "object_position": null,
            "object_fit": null,
            "grid_auto_columns": null,
            "margin": null,
            "display": null,
            "left": null
          }
        },
        "e29f62e0c24549008e431bad512b42de": {
          "model_module": "@jupyter-widgets/controls",
          "model_name": "ProgressStyleModel",
          "model_module_version": "1.5.0",
          "state": {
            "_view_name": "StyleView",
            "_model_name": "ProgressStyleModel",
            "description_width": "",
            "_view_module": "@jupyter-widgets/base",
            "_model_module_version": "1.5.0",
            "_view_count": null,
            "_view_module_version": "1.2.0",
            "bar_color": null,
            "_model_module": "@jupyter-widgets/controls"
          }
        },
        "07a6ab7995bf4bc0b8b7f9b6239e6930": {
          "model_module": "@jupyter-widgets/base",
          "model_name": "LayoutModel",
          "model_module_version": "1.2.0",
          "state": {
            "_view_name": "LayoutView",
            "grid_template_rows": null,
            "right": null,
            "justify_content": null,
            "_view_module": "@jupyter-widgets/base",
            "overflow": null,
            "_model_module_version": "1.2.0",
            "_view_count": null,
            "flex_flow": null,
            "width": null,
            "min_width": null,
            "border": null,
            "align_items": null,
            "bottom": null,
            "_model_module": "@jupyter-widgets/base",
            "top": null,
            "grid_column": null,
            "overflow_y": null,
            "overflow_x": null,
            "grid_auto_flow": null,
            "grid_area": null,
            "grid_template_columns": null,
            "flex": null,
            "_model_name": "LayoutModel",
            "justify_items": null,
            "grid_row": null,
            "max_height": null,
            "align_content": null,
            "visibility": null,
            "align_self": null,
            "height": null,
            "min_height": null,
            "padding": null,
            "grid_auto_rows": null,
            "grid_gap": null,
            "max_width": null,
            "order": null,
            "_view_module_version": "1.2.0",
            "grid_template_areas": null,
            "object_position": null,
            "object_fit": null,
            "grid_auto_columns": null,
            "margin": null,
            "display": null,
            "left": null
          }
        },
        "8e7a9498b1e4490899ce17383866e5fa": {
          "model_module": "@jupyter-widgets/controls",
          "model_name": "DescriptionStyleModel",
          "model_module_version": "1.5.0",
          "state": {
            "_view_name": "StyleView",
            "_model_name": "DescriptionStyleModel",
            "description_width": "",
            "_view_module": "@jupyter-widgets/base",
            "_model_module_version": "1.5.0",
            "_view_count": null,
            "_view_module_version": "1.2.0",
            "_model_module": "@jupyter-widgets/controls"
          }
        },
        "40a3792c7bac4362bcc619e3b8775895": {
          "model_module": "@jupyter-widgets/base",
          "model_name": "LayoutModel",
          "model_module_version": "1.2.0",
          "state": {
            "_view_name": "LayoutView",
            "grid_template_rows": null,
            "right": null,
            "justify_content": null,
            "_view_module": "@jupyter-widgets/base",
            "overflow": null,
            "_model_module_version": "1.2.0",
            "_view_count": null,
            "flex_flow": null,
            "width": null,
            "min_width": null,
            "border": null,
            "align_items": null,
            "bottom": null,
            "_model_module": "@jupyter-widgets/base",
            "top": null,
            "grid_column": null,
            "overflow_y": null,
            "overflow_x": null,
            "grid_auto_flow": null,
            "grid_area": null,
            "grid_template_columns": null,
            "flex": null,
            "_model_name": "LayoutModel",
            "justify_items": null,
            "grid_row": null,
            "max_height": null,
            "align_content": null,
            "visibility": null,
            "align_self": null,
            "height": null,
            "min_height": null,
            "padding": null,
            "grid_auto_rows": null,
            "grid_gap": null,
            "max_width": null,
            "order": null,
            "_view_module_version": "1.2.0",
            "grid_template_areas": null,
            "object_position": null,
            "object_fit": null,
            "grid_auto_columns": null,
            "margin": null,
            "display": null,
            "left": null
          }
        },
        "a8c4b0d1e2c94111b590dba78ac81b95": {
          "model_module": "@jupyter-widgets/controls",
          "model_name": "HBoxModel",
          "model_module_version": "1.5.0",
          "state": {
            "_view_name": "HBoxView",
            "_dom_classes": [],
            "_model_name": "HBoxModel",
            "_view_module": "@jupyter-widgets/controls",
            "_model_module_version": "1.5.0",
            "_view_count": null,
            "_view_module_version": "1.5.0",
            "box_style": "",
            "layout": "IPY_MODEL_ea535bc861a14603936e8cbab32f849f",
            "_model_module": "@jupyter-widgets/controls",
            "children": [
              "IPY_MODEL_e8c423bbc9ed454d8df967e7c53a5693",
              "IPY_MODEL_284f4010a59e4b2d8bd69b5e9e4ce04b",
              "IPY_MODEL_b10a136f3ee145eb9eba2dee6f9eb80f"
            ]
          }
        },
        "ea535bc861a14603936e8cbab32f849f": {
          "model_module": "@jupyter-widgets/base",
          "model_name": "LayoutModel",
          "model_module_version": "1.2.0",
          "state": {
            "_view_name": "LayoutView",
            "grid_template_rows": null,
            "right": null,
            "justify_content": null,
            "_view_module": "@jupyter-widgets/base",
            "overflow": null,
            "_model_module_version": "1.2.0",
            "_view_count": null,
            "flex_flow": null,
            "width": null,
            "min_width": null,
            "border": null,
            "align_items": null,
            "bottom": null,
            "_model_module": "@jupyter-widgets/base",
            "top": null,
            "grid_column": null,
            "overflow_y": null,
            "overflow_x": null,
            "grid_auto_flow": null,
            "grid_area": null,
            "grid_template_columns": null,
            "flex": null,
            "_model_name": "LayoutModel",
            "justify_items": null,
            "grid_row": null,
            "max_height": null,
            "align_content": null,
            "visibility": null,
            "align_self": null,
            "height": null,
            "min_height": null,
            "padding": null,
            "grid_auto_rows": null,
            "grid_gap": null,
            "max_width": null,
            "order": null,
            "_view_module_version": "1.2.0",
            "grid_template_areas": null,
            "object_position": null,
            "object_fit": null,
            "grid_auto_columns": null,
            "margin": null,
            "display": null,
            "left": null
          }
        },
        "e8c423bbc9ed454d8df967e7c53a5693": {
          "model_module": "@jupyter-widgets/controls",
          "model_name": "HTMLModel",
          "model_module_version": "1.5.0",
          "state": {
            "_view_name": "HTMLView",
            "style": "IPY_MODEL_008f9003cab14d4bba7215bbfbd4538c",
            "_dom_classes": [],
            "description": "",
            "_model_name": "HTMLModel",
            "placeholder": "​",
            "_view_module": "@jupyter-widgets/controls",
            "_model_module_version": "1.5.0",
            "value": "Downloading: 100%",
            "_view_count": null,
            "_view_module_version": "1.5.0",
            "description_tooltip": null,
            "_model_module": "@jupyter-widgets/controls",
            "layout": "IPY_MODEL_5bffa64255714031bbef5177183927ea"
          }
        },
        "284f4010a59e4b2d8bd69b5e9e4ce04b": {
          "model_module": "@jupyter-widgets/controls",
          "model_name": "FloatProgressModel",
          "model_module_version": "1.5.0",
          "state": {
            "_view_name": "ProgressView",
            "style": "IPY_MODEL_8d2a19f0d6ac499abc2f121327fcb665",
            "_dom_classes": [],
            "description": "",
            "_model_name": "FloatProgressModel",
            "bar_style": "success",
            "max": 440473133,
            "_view_module": "@jupyter-widgets/controls",
            "_model_module_version": "1.5.0",
            "value": 440473133,
            "_view_count": null,
            "_view_module_version": "1.5.0",
            "orientation": "horizontal",
            "min": 0,
            "description_tooltip": null,
            "_model_module": "@jupyter-widgets/controls",
            "layout": "IPY_MODEL_cc8261bedd6548c3b45c0ee940c65780"
          }
        },
        "b10a136f3ee145eb9eba2dee6f9eb80f": {
          "model_module": "@jupyter-widgets/controls",
          "model_name": "HTMLModel",
          "model_module_version": "1.5.0",
          "state": {
            "_view_name": "HTMLView",
            "style": "IPY_MODEL_13a13a512ca748148c68f6214439aa69",
            "_dom_classes": [],
            "description": "",
            "_model_name": "HTMLModel",
            "placeholder": "​",
            "_view_module": "@jupyter-widgets/controls",
            "_model_module_version": "1.5.0",
            "value": " 440M/440M [00:13&lt;00:00, 33.7MB/s]",
            "_view_count": null,
            "_view_module_version": "1.5.0",
            "description_tooltip": null,
            "_model_module": "@jupyter-widgets/controls",
            "layout": "IPY_MODEL_694b86c4401347bdb267158f5bf30111"
          }
        },
        "008f9003cab14d4bba7215bbfbd4538c": {
          "model_module": "@jupyter-widgets/controls",
          "model_name": "DescriptionStyleModel",
          "model_module_version": "1.5.0",
          "state": {
            "_view_name": "StyleView",
            "_model_name": "DescriptionStyleModel",
            "description_width": "",
            "_view_module": "@jupyter-widgets/base",
            "_model_module_version": "1.5.0",
            "_view_count": null,
            "_view_module_version": "1.2.0",
            "_model_module": "@jupyter-widgets/controls"
          }
        },
        "5bffa64255714031bbef5177183927ea": {
          "model_module": "@jupyter-widgets/base",
          "model_name": "LayoutModel",
          "model_module_version": "1.2.0",
          "state": {
            "_view_name": "LayoutView",
            "grid_template_rows": null,
            "right": null,
            "justify_content": null,
            "_view_module": "@jupyter-widgets/base",
            "overflow": null,
            "_model_module_version": "1.2.0",
            "_view_count": null,
            "flex_flow": null,
            "width": null,
            "min_width": null,
            "border": null,
            "align_items": null,
            "bottom": null,
            "_model_module": "@jupyter-widgets/base",
            "top": null,
            "grid_column": null,
            "overflow_y": null,
            "overflow_x": null,
            "grid_auto_flow": null,
            "grid_area": null,
            "grid_template_columns": null,
            "flex": null,
            "_model_name": "LayoutModel",
            "justify_items": null,
            "grid_row": null,
            "max_height": null,
            "align_content": null,
            "visibility": null,
            "align_self": null,
            "height": null,
            "min_height": null,
            "padding": null,
            "grid_auto_rows": null,
            "grid_gap": null,
            "max_width": null,
            "order": null,
            "_view_module_version": "1.2.0",
            "grid_template_areas": null,
            "object_position": null,
            "object_fit": null,
            "grid_auto_columns": null,
            "margin": null,
            "display": null,
            "left": null
          }
        },
        "8d2a19f0d6ac499abc2f121327fcb665": {
          "model_module": "@jupyter-widgets/controls",
          "model_name": "ProgressStyleModel",
          "model_module_version": "1.5.0",
          "state": {
            "_view_name": "StyleView",
            "_model_name": "ProgressStyleModel",
            "description_width": "",
            "_view_module": "@jupyter-widgets/base",
            "_model_module_version": "1.5.0",
            "_view_count": null,
            "_view_module_version": "1.2.0",
            "bar_color": null,
            "_model_module": "@jupyter-widgets/controls"
          }
        },
        "cc8261bedd6548c3b45c0ee940c65780": {
          "model_module": "@jupyter-widgets/base",
          "model_name": "LayoutModel",
          "model_module_version": "1.2.0",
          "state": {
            "_view_name": "LayoutView",
            "grid_template_rows": null,
            "right": null,
            "justify_content": null,
            "_view_module": "@jupyter-widgets/base",
            "overflow": null,
            "_model_module_version": "1.2.0",
            "_view_count": null,
            "flex_flow": null,
            "width": null,
            "min_width": null,
            "border": null,
            "align_items": null,
            "bottom": null,
            "_model_module": "@jupyter-widgets/base",
            "top": null,
            "grid_column": null,
            "overflow_y": null,
            "overflow_x": null,
            "grid_auto_flow": null,
            "grid_area": null,
            "grid_template_columns": null,
            "flex": null,
            "_model_name": "LayoutModel",
            "justify_items": null,
            "grid_row": null,
            "max_height": null,
            "align_content": null,
            "visibility": null,
            "align_self": null,
            "height": null,
            "min_height": null,
            "padding": null,
            "grid_auto_rows": null,
            "grid_gap": null,
            "max_width": null,
            "order": null,
            "_view_module_version": "1.2.0",
            "grid_template_areas": null,
            "object_position": null,
            "object_fit": null,
            "grid_auto_columns": null,
            "margin": null,
            "display": null,
            "left": null
          }
        },
        "13a13a512ca748148c68f6214439aa69": {
          "model_module": "@jupyter-widgets/controls",
          "model_name": "DescriptionStyleModel",
          "model_module_version": "1.5.0",
          "state": {
            "_view_name": "StyleView",
            "_model_name": "DescriptionStyleModel",
            "description_width": "",
            "_view_module": "@jupyter-widgets/base",
            "_model_module_version": "1.5.0",
            "_view_count": null,
            "_view_module_version": "1.2.0",
            "_model_module": "@jupyter-widgets/controls"
          }
        },
        "694b86c4401347bdb267158f5bf30111": {
          "model_module": "@jupyter-widgets/base",
          "model_name": "LayoutModel",
          "model_module_version": "1.2.0",
          "state": {
            "_view_name": "LayoutView",
            "grid_template_rows": null,
            "right": null,
            "justify_content": null,
            "_view_module": "@jupyter-widgets/base",
            "overflow": null,
            "_model_module_version": "1.2.0",
            "_view_count": null,
            "flex_flow": null,
            "width": null,
            "min_width": null,
            "border": null,
            "align_items": null,
            "bottom": null,
            "_model_module": "@jupyter-widgets/base",
            "top": null,
            "grid_column": null,
            "overflow_y": null,
            "overflow_x": null,
            "grid_auto_flow": null,
            "grid_area": null,
            "grid_template_columns": null,
            "flex": null,
            "_model_name": "LayoutModel",
            "justify_items": null,
            "grid_row": null,
            "max_height": null,
            "align_content": null,
            "visibility": null,
            "align_self": null,
            "height": null,
            "min_height": null,
            "padding": null,
            "grid_auto_rows": null,
            "grid_gap": null,
            "max_width": null,
            "order": null,
            "_view_module_version": "1.2.0",
            "grid_template_areas": null,
            "object_position": null,
            "object_fit": null,
            "grid_auto_columns": null,
            "margin": null,
            "display": null,
            "left": null
          }
        }
      }
    }
  },
  "cells": [
    {
      "cell_type": "markdown",
      "metadata": {
        "id": "oNGZugHLuaB6"
      },
      "source": [
        "## 0. Packages intallation"
      ]
    },
    {
      "cell_type": "code",
      "metadata": {
        "id": "KcdR62R3NrlZ"
      },
      "source": [
        "!pip install langdetect\n",
        "!pip install transformers\n",
        "!pip install sentence-transformers\n",
        "!pip install ktrain\n",
        "!pip install scikit-plot"
      ],
      "execution_count": null,
      "outputs": []
    },
    {
      "cell_type": "code",
      "metadata": {
        "colab": {
          "base_uri": "https://localhost:8080/"
        },
        "id": "syCXFpyXQ0kM",
        "outputId": "87099fa8-c341-4c67-ff62-28b737e44f4c"
      },
      "source": [
        "# Connection with Google Drive\n",
        "from google.colab import drive\n",
        "drive.mount('/content/drive', force_remount=True)"
      ],
      "execution_count": null,
      "outputs": [
        {
          "output_type": "stream",
          "name": "stdout",
          "text": [
            "Mounted at /content/drive\n"
          ]
        }
      ]
    },
    {
      "cell_type": "code",
      "metadata": {
        "id": "IIQlFVHXQ66d"
      },
      "source": [
        "# Definition of the project base folder\n",
        "dir_base = \"/content/drive/My Drive/Sorcero_Test\"\n",
        "dir_dataset = dir_base + \"/data/\""
      ],
      "execution_count": null,
      "outputs": []
    },
    {
      "cell_type": "code",
      "metadata": {
        "colab": {
          "base_uri": "https://localhost:8080/"
        },
        "id": "jd80LF4lNBL5",
        "outputId": "e00524dc-8e9b-4cb7-9c88-7f821ba28987"
      },
      "source": [
        "# Importing useful libraries\n",
        "import matplotlib.pyplot as plt\n",
        "import seaborn as sn\n",
        "%matplotlib inline\n",
        "%time\n",
        "import time\n",
        "import random\n",
        "import pandas as pd\n",
        "import numpy as np\n",
        "import os\n",
        "import re\n",
        "import shutil\n",
        "import sys\n",
        "import string\n",
        "import regex\n",
        "from tqdm.notebook import tqdm\n",
        "from sklearn.model_selection import train_test_split\n",
        "from sklearn.metrics import accuracy_score, classification_report\n",
        "import nltk\n",
        "from nltk.corpus import wordnet as wn\n",
        "from nltk.corpus import stopwords\n",
        "import tensorflow as tf\n",
        "from tensorflow.keras import layers\n",
        "from tensorflow.keras.layers import Dense, Flatten\n",
        "from tensorflow.keras import losses\n",
        "from tensorflow.keras import preprocessing\n",
        "from tensorflow.keras.preprocessing.sequence import pad_sequences\n",
        "from langdetect import detect, DetectorFactory\n",
        "from transformers import TFBertModel, create_optimizer, BertTokenizer, BertModel\n",
        "from nltk.tokenize import RegexpTokenizer\n",
        "from ktrain import text\n",
        "import scikitplot as skplt\n",
        "import torch\n",
        "import torch.nn as nn\n",
        "import torch.nn.functional as F\n",
        "import warnings\n",
        "warnings.filterwarnings('ignore')"
      ],
      "execution_count": null,
      "outputs": [
        {
          "output_type": "stream",
          "name": "stdout",
          "text": [
            "CPU times: user 2 µs, sys: 1 µs, total: 3 µs\n",
            "Wall time: 5.25 µs\n"
          ]
        }
      ]
    },
    {
      "cell_type": "markdown",
      "metadata": {
        "id": "kqKPCxXAunJh"
      },
      "source": [
        "## 1. Exploring the dataset"
      ]
    },
    {
      "cell_type": "code",
      "metadata": {
        "id": "huAncjdjaVIA"
      },
      "source": [
        "# Importing dataset\n",
        "\n",
        "df_dev = pd.read_csv(dir_dataset + \"/dev.tsv\",sep= \"\\t\", index_col=0)\n",
        "df_train = pd.read_csv(dir_dataset + \"/train.tsv\",sep= \"\\t\", index_col=0)\n",
        "df_test = pd.read_csv(dir_dataset + \"/test.tsv\", sep= \"\\t\", index_col=0)\n",
        "\n",
        "df_dataset = pd.concat([df_dev, df_train, df_test]) # Concatenating datasets for easy preprocessing"
      ],
      "execution_count": null,
      "outputs": []
    },
    {
      "cell_type": "code",
      "metadata": {
        "colab": {
          "base_uri": "https://localhost:8080/",
          "height": 293
        },
        "id": "URq5kpq7cyuV",
        "outputId": "85859099-005d-491a-b0ec-fb8ab4b6bedf"
      },
      "source": [
        "# Exploring dataset\n",
        "df_dataset.head()"
      ],
      "execution_count": null,
      "outputs": [
        {
          "output_type": "execute_result",
          "data": {
            "text/html": [
              "<div>\n",
              "<style scoped>\n",
              "    .dataframe tbody tr th:only-of-type {\n",
              "        vertical-align: middle;\n",
              "    }\n",
              "\n",
              "    .dataframe tbody tr th {\n",
              "        vertical-align: top;\n",
              "    }\n",
              "\n",
              "    .dataframe thead th {\n",
              "        text-align: right;\n",
              "    }\n",
              "</style>\n",
              "<table border=\"1\" class=\"dataframe\">\n",
              "  <thead>\n",
              "    <tr style=\"text-align: right;\">\n",
              "      <th></th>\n",
              "      <th>claim</th>\n",
              "      <th>date_published</th>\n",
              "      <th>explanation</th>\n",
              "      <th>fact_checkers</th>\n",
              "      <th>main_text</th>\n",
              "      <th>sources</th>\n",
              "      <th>label</th>\n",
              "      <th>subjects</th>\n",
              "      <th>claim_id</th>\n",
              "    </tr>\n",
              "  </thead>\n",
              "  <tbody>\n",
              "    <tr>\n",
              "      <th>34656</th>\n",
              "      <td>A baby died at an unnamed medical facility be...</td>\n",
              "      <td>November 10, 2015</td>\n",
              "      <td>Fellow Twitter users suggested @FierceFemtivis...</td>\n",
              "      <td>Kim LaCapria</td>\n",
              "      <td>On 8 November 2015, former Twitter user @Fierc...</td>\n",
              "      <td>http://webcache.googleusercontent.com/search?q...</td>\n",
              "      <td>unproven</td>\n",
              "      <td>Politics, fiercefemtivist, racism</td>\n",
              "      <td>NaN</td>\n",
              "    </tr>\n",
              "    <tr>\n",
              "      <th>3632</th>\n",
              "      <td>Bat from Shawnee County tests positive for rab...</td>\n",
              "      <td>NaN</td>\n",
              "      <td>A bat found in northeastern Kansas has tested ...</td>\n",
              "      <td></td>\n",
              "      <td>Topeka television station KSNT reports that th...</td>\n",
              "      <td>https://www.ksnt.com/news/bat-tests-positive-f...</td>\n",
              "      <td>true</td>\n",
              "      <td>Rabies, Health, General News, Kansas, Bats, To...</td>\n",
              "      <td>NaN</td>\n",
              "    </tr>\n",
              "    <tr>\n",
              "      <th>29558</th>\n",
              "      <td>Germany has banned pork from school canteens b...</td>\n",
              "      <td>March 7, 2016</td>\n",
              "      <td>What's true: Some politicians complained that ...</td>\n",
              "      <td>Kim LaCapria</td>\n",
              "      <td>On 7 March 2016, British tabloid Express repor...</td>\n",
              "      <td>http://bnp.org.uk/news/regional/bnp-victory-br...</td>\n",
              "      <td>false</td>\n",
              "      <td>Politics</td>\n",
              "      <td>NaN</td>\n",
              "    </tr>\n",
              "    <tr>\n",
              "      <th>8416</th>\n",
              "      <td>Coronavirus prompts Canada to roll out safe dr...</td>\n",
              "      <td>April 16, 2020</td>\n",
              "      <td>Canada’s Pacific province of British Columbia ...</td>\n",
              "      <td>Tessa Vikander</td>\n",
              "      <td>In March, the Canadian government urged provin...</td>\n",
              "      <td></td>\n",
              "      <td>true</td>\n",
              "      <td>Health News</td>\n",
              "      <td>NaN</td>\n",
              "    </tr>\n",
              "    <tr>\n",
              "      <th>7169</th>\n",
              "      <td>Wayne National Forest plans fires for tree, wi...</td>\n",
              "      <td>NaN</td>\n",
              "      <td>Nearly 2,000 acres of Wayne National Forest in...</td>\n",
              "      <td></td>\n",
              "      <td>Forest officials say scientists who study nati...</td>\n",
              "      <td></td>\n",
              "      <td>true</td>\n",
              "      <td>Plants, Wildlife, Health, Wildlife health, For...</td>\n",
              "      <td>NaN</td>\n",
              "    </tr>\n",
              "  </tbody>\n",
              "</table>\n",
              "</div>"
            ],
            "text/plain": [
              "                                                   claim  ... claim_id\n",
              "34656   A baby died at an unnamed medical facility be...  ...      NaN\n",
              "3632   Bat from Shawnee County tests positive for rab...  ...      NaN\n",
              "29558  Germany has banned pork from school canteens b...  ...      NaN\n",
              "8416   Coronavirus prompts Canada to roll out safe dr...  ...      NaN\n",
              "7169   Wayne National Forest plans fires for tree, wi...  ...      NaN\n",
              "\n",
              "[5 rows x 9 columns]"
            ]
          },
          "metadata": {},
          "execution_count": 6
        }
      ]
    },
    {
      "cell_type": "code",
      "metadata": {
        "colab": {
          "base_uri": "https://localhost:8080/"
        },
        "id": "SmfEGBDCeejk",
        "outputId": "e50aec0c-7ee5-4f0d-88c7-468a11b27d67"
      },
      "source": [
        "df_dataset[\"label\"].unique() # Noise is detected in the label column (labels different from the expected 4 described in https://huggingface.co/datasets/health_fact)"
      ],
      "execution_count": null,
      "outputs": [
        {
          "output_type": "execute_result",
          "data": {
            "text/plain": [
              "array(['unproven', 'true', 'false', 'mixture', nan,\n",
              "       'National, Candidate Biography, Donald Trump, ', 'snopes'],\n",
              "      dtype=object)"
            ]
          },
          "metadata": {},
          "execution_count": 7
        }
      ]
    },
    {
      "cell_type": "markdown",
      "metadata": {
        "id": "zpK5qKyCplM4"
      },
      "source": [
        "## 2. Cleaning the dataset"
      ]
    },
    {
      "cell_type": "code",
      "metadata": {
        "id": "8bv4hLBxnDlr"
      },
      "source": [
        "# Dropping noise rows (label different from the expected 4)\n",
        "\n",
        "df_dataset = df_dataset.loc[(df_dataset['label'] == 'unproven') | (df_dataset['label'] == 'true') | (df_dataset['label'] == 'false') | (df_dataset['label'] == 'mixture')]"
      ],
      "execution_count": null,
      "outputs": []
    },
    {
      "cell_type": "code",
      "metadata": {
        "colab": {
          "base_uri": "https://localhost:8080/",
          "height": 129
        },
        "id": "HtaILVDLpbSp",
        "outputId": "ed8671fe-d834-4adc-91bd-1000f3059ce0"
      },
      "source": [
        "display(df_dataset.groupby(by='label').size()) "
      ],
      "execution_count": null,
      "outputs": [
        {
          "output_type": "display_data",
          "data": {
            "text/plain": [
              "label\n",
              "false       3769\n",
              "mixture     1799\n",
              "true        6306\n",
              "unproven     377\n",
              "dtype: int64"
            ]
          },
          "metadata": {}
        }
      ]
    },
    {
      "cell_type": "code",
      "metadata": {
        "colab": {
          "base_uri": "https://localhost:8080/",
          "height": 284
        },
        "id": "-cWqiX_2ppDV",
        "outputId": "8c283894-4451-409b-d8d1-f2cdeea5e9cf"
      },
      "source": [
        "df_dataset['label'].hist()"
      ],
      "execution_count": null,
      "outputs": [
        {
          "output_type": "execute_result",
          "data": {
            "text/plain": [
              "<matplotlib.axes._subplots.AxesSubplot at 0x7fa3bfcf31d0>"
            ]
          },
          "metadata": {},
          "execution_count": 10
        },
        {
          "output_type": "display_data",
          "data": {
            "image/png": "[encoded data removed]",
            "text/plain": [
              "<Figure size 432x288 with 1 Axes>"
            ]
          },
          "metadata": {
            "needs_background": "light"
          }
        }
      ]
    },
    {
      "cell_type": "code",
      "metadata": {
        "colab": {
          "base_uri": "https://localhost:8080/"
        },
        "id": "gebtnKTgpxJq",
        "outputId": "6b37d996-26c3-45a8-8c99-beb16fe6c352"
      },
      "source": [
        "df_dataset.isna().sum() # Checking that claim column does not have nan values"
      ],
      "execution_count": null,
      "outputs": [
        {
          "output_type": "execute_result",
          "data": {
            "text/plain": [
              "claim                 0\n",
              "date_published     2398\n",
              "explanation           0\n",
              "fact_checkers         0\n",
              "main_text             0\n",
              "sources               1\n",
              "label                 0\n",
              "subjects              0\n",
              "claim_id          11018\n",
              "dtype: int64"
            ]
          },
          "metadata": {},
          "execution_count": 11
        }
      ]
    },
    {
      "cell_type": "code",
      "metadata": {
        "colab": {
          "base_uri": "https://localhost:8080/"
        },
        "id": "JYqCMa-gpdzr",
        "outputId": "97fe9385-7600-42d1-c345-2adbee8d0299"
      },
      "source": [
        "df_dataset.shape"
      ],
      "execution_count": null,
      "outputs": [
        {
          "output_type": "execute_result",
          "data": {
            "text/plain": [
              "(12251, 9)"
            ]
          },
          "metadata": {},
          "execution_count": 12
        }
      ]
    },
    {
      "cell_type": "code",
      "metadata": {
        "id": "jCkweAKSnyOu"
      },
      "source": [
        "# Converting label column to numerical\n",
        "#### true - 0\n",
        "#### false - 1\n",
        "#### mixture - 2\n",
        "#### unproven - 3\n",
        "#df_dataset['label_desc'] = df_dataset['label'] \n",
        "df_dataset['label'].replace(to_replace=['true', 'false', 'mixture', 'unproven'], value=[0, 1, 2, 3], inplace=True)"
      ],
      "execution_count": null,
      "outputs": []
    },
    {
      "cell_type": "code",
      "metadata": {
        "id": "RyoeQ4JvshA-"
      },
      "source": [
        "# Language review to ensure that the claims are written in English ############\n",
        "df_dataset['Language'] = df_dataset['claim'].apply(detect)"
      ],
      "execution_count": null,
      "outputs": []
    },
    {
      "cell_type": "code",
      "metadata": {
        "id": "OSu0oDMtXA4M",
        "colab": {
          "base_uri": "https://localhost:8080/",
          "height": 427
        },
        "outputId": "b5db6d17-bd7b-472c-f2c9-b97661872d3c"
      },
      "source": [
        "display(df_dataset.groupby(by='Language').size()) # Claims in other languages different to English (English is the expected language according to https://huggingface.co/datasets/health_fact))"
      ],
      "execution_count": null,
      "outputs": [
        {
          "output_type": "display_data",
          "data": {
            "text/plain": [
              "Language\n",
              "af       15\n",
              "ca       21\n",
              "cy        1\n",
              "da       12\n",
              "de       26\n",
              "en    12091\n",
              "es        5\n",
              "et        1\n",
              "fr       28\n",
              "id        4\n",
              "it       14\n",
              "lt        1\n",
              "nl       13\n",
              "no        5\n",
              "ro        6\n",
              "sl        1\n",
              "sv        2\n",
              "tl        3\n",
              "tr        1\n",
              "vi        1\n",
              "dtype: int64"
            ]
          },
          "metadata": {}
        }
      ]
    },
    {
      "cell_type": "code",
      "metadata": {
        "id": "DAFp07IzsLMU"
      },
      "source": [
        "idx_drop = df_dataset[(df_dataset['Language'] != \"en\")].index # Removing all claims in other language\n",
        "df_dataset.drop(idx_drop, inplace = True)"
      ],
      "execution_count": null,
      "outputs": []
    },
    {
      "cell_type": "code",
      "metadata": {
        "id": "fio7pYedjKIa",
        "colab": {
          "base_uri": "https://localhost:8080/"
        },
        "outputId": "969ce0ae-73e9-4e03-9aeb-6a494e8a90d1"
      },
      "source": [
        "df_dataset.shape"
      ],
      "execution_count": null,
      "outputs": [
        {
          "output_type": "execute_result",
          "data": {
            "text/plain": [
              "(12091, 10)"
            ]
          },
          "metadata": {},
          "execution_count": 17
        }
      ]
    },
    {
      "cell_type": "code",
      "metadata": {
        "id": "mnMWNE_bTcNm",
        "colab": {
          "base_uri": "https://localhost:8080/"
        },
        "outputId": "f13b687f-f169-47d8-a4b2-73b03779fdbd"
      },
      "source": [
        "df_dataset.columns"
      ],
      "execution_count": null,
      "outputs": [
        {
          "output_type": "execute_result",
          "data": {
            "text/plain": [
              "Index(['claim', 'date_published', 'explanation', 'fact_checkers', 'main_text',\n",
              "       'sources', 'label', 'subjects', 'claim_id', 'Language'],\n",
              "      dtype='object')"
            ]
          },
          "metadata": {},
          "execution_count": 18
        }
      ]
    },
    {
      "cell_type": "code",
      "metadata": {
        "id": "Vx4DFV5WvyDa"
      },
      "source": [
        "# Keeping important columns\n",
        "df_dataset = df_dataset.loc[:, ['claim', 'label']]"
      ],
      "execution_count": null,
      "outputs": []
    },
    {
      "cell_type": "code",
      "metadata": {
        "id": "DR6YxqbdS6XX",
        "colab": {
          "base_uri": "https://localhost:8080/",
          "height": 206
        },
        "outputId": "3e0f2fc7-f243-4daa-b60e-265972ad35ac"
      },
      "source": [
        "df_dataset.head()"
      ],
      "execution_count": null,
      "outputs": [
        {
          "output_type": "execute_result",
          "data": {
            "text/html": [
              "<div>\n",
              "<style scoped>\n",
              "    .dataframe tbody tr th:only-of-type {\n",
              "        vertical-align: middle;\n",
              "    }\n",
              "\n",
              "    .dataframe tbody tr th {\n",
              "        vertical-align: top;\n",
              "    }\n",
              "\n",
              "    .dataframe thead th {\n",
              "        text-align: right;\n",
              "    }\n",
              "</style>\n",
              "<table border=\"1\" class=\"dataframe\">\n",
              "  <thead>\n",
              "    <tr style=\"text-align: right;\">\n",
              "      <th></th>\n",
              "      <th>claim</th>\n",
              "      <th>label</th>\n",
              "    </tr>\n",
              "  </thead>\n",
              "  <tbody>\n",
              "    <tr>\n",
              "      <th>34656</th>\n",
              "      <td>A baby died at an unnamed medical facility be...</td>\n",
              "      <td>3</td>\n",
              "    </tr>\n",
              "    <tr>\n",
              "      <th>3632</th>\n",
              "      <td>Bat from Shawnee County tests positive for rab...</td>\n",
              "      <td>0</td>\n",
              "    </tr>\n",
              "    <tr>\n",
              "      <th>29558</th>\n",
              "      <td>Germany has banned pork from school canteens b...</td>\n",
              "      <td>1</td>\n",
              "    </tr>\n",
              "    <tr>\n",
              "      <th>8416</th>\n",
              "      <td>Coronavirus prompts Canada to roll out safe dr...</td>\n",
              "      <td>0</td>\n",
              "    </tr>\n",
              "    <tr>\n",
              "      <th>7169</th>\n",
              "      <td>Wayne National Forest plans fires for tree, wi...</td>\n",
              "      <td>0</td>\n",
              "    </tr>\n",
              "  </tbody>\n",
              "</table>\n",
              "</div>"
            ],
            "text/plain": [
              "                                                   claim  label\n",
              "34656   A baby died at an unnamed medical facility be...      3\n",
              "3632   Bat from Shawnee County tests positive for rab...      0\n",
              "29558  Germany has banned pork from school canteens b...      1\n",
              "8416   Coronavirus prompts Canada to roll out safe dr...      0\n",
              "7169   Wayne National Forest plans fires for tree, wi...      0"
            ]
          },
          "metadata": {},
          "execution_count": 20
        }
      ]
    },
    {
      "cell_type": "code",
      "metadata": {
        "id": "ceuEHSoiqPmW"
      },
      "source": [
        "# Saving the cleaned dataset from dataframe to csv\n",
        "\n",
        "df_dataset.to_csv(dir_dataset + \"claims_dataset_cleaned.csv\")"
      ],
      "execution_count": null,
      "outputs": []
    },
    {
      "cell_type": "markdown",
      "metadata": {
        "id": "MUszB9DTefxN"
      },
      "source": [
        "## _______________________________________________________________________________"
      ]
    },
    {
      "cell_type": "markdown",
      "metadata": {
        "id": "JZZRfw0p8CDG"
      },
      "source": [
        "*Points 1 and 2 can be skipped and jumping directly from 0 to 3. Connecting with cleaned dataset*\n",
        "\n",
        "\n",
        "\n",
        "\n"
      ]
    },
    {
      "cell_type": "markdown",
      "metadata": {
        "id": "RFvdgqtjkTv7"
      },
      "source": [
        "## 3. Connecting with the cleaned dataset"
      ]
    },
    {
      "cell_type": "code",
      "metadata": {
        "id": "nHDpDiLI8T7D"
      },
      "source": [
        "# Reading csv dataset cleaned in steps 1 and 2\n",
        "\n",
        "df_dataset = pd.read_csv(dir_dataset + \"claims_dataset_cleaned.csv\", index_col=0)"
      ],
      "execution_count": null,
      "outputs": []
    },
    {
      "cell_type": "code",
      "metadata": {
        "id": "jTPsBLJIxFEX",
        "colab": {
          "base_uri": "https://localhost:8080/",
          "height": 424
        },
        "outputId": "c97b24c8-aa32-4014-b54c-3ed2a2faa22c"
      },
      "source": [
        "display(df_dataset)"
      ],
      "execution_count": null,
      "outputs": [
        {
          "output_type": "display_data",
          "data": {
            "text/html": [
              "<div>\n",
              "<style scoped>\n",
              "    .dataframe tbody tr th:only-of-type {\n",
              "        vertical-align: middle;\n",
              "    }\n",
              "\n",
              "    .dataframe tbody tr th {\n",
              "        vertical-align: top;\n",
              "    }\n",
              "\n",
              "    .dataframe thead th {\n",
              "        text-align: right;\n",
              "    }\n",
              "</style>\n",
              "<table border=\"1\" class=\"dataframe\">\n",
              "  <thead>\n",
              "    <tr style=\"text-align: right;\">\n",
              "      <th></th>\n",
              "      <th>claim</th>\n",
              "      <th>label</th>\n",
              "    </tr>\n",
              "  </thead>\n",
              "  <tbody>\n",
              "    <tr>\n",
              "      <th>34656</th>\n",
              "      <td>A baby died at an unnamed medical facility be...</td>\n",
              "      <td>3</td>\n",
              "    </tr>\n",
              "    <tr>\n",
              "      <th>3632</th>\n",
              "      <td>Bat from Shawnee County tests positive for rab...</td>\n",
              "      <td>0</td>\n",
              "    </tr>\n",
              "    <tr>\n",
              "      <th>29558</th>\n",
              "      <td>Germany has banned pork from school canteens b...</td>\n",
              "      <td>1</td>\n",
              "    </tr>\n",
              "    <tr>\n",
              "      <th>8416</th>\n",
              "      <td>Coronavirus prompts Canada to roll out safe dr...</td>\n",
              "      <td>0</td>\n",
              "    </tr>\n",
              "    <tr>\n",
              "      <th>7169</th>\n",
              "      <td>Wayne National Forest plans fires for tree, wi...</td>\n",
              "      <td>0</td>\n",
              "    </tr>\n",
              "    <tr>\n",
              "      <th>...</th>\n",
              "      <td>...</td>\n",
              "      <td>...</td>\n",
              "    </tr>\n",
              "    <tr>\n",
              "      <th>1230</th>\n",
              "      <td>Christmas miracle for Florida dog whose heart ...</td>\n",
              "      <td>0</td>\n",
              "    </tr>\n",
              "    <tr>\n",
              "      <th>1231</th>\n",
              "      <td>Another dolphin dies at Arizona aquatic facility.</td>\n",
              "      <td>0</td>\n",
              "    </tr>\n",
              "    <tr>\n",
              "      <th>1232</th>\n",
              "      <td>What the facts say\" is ... \"the best scenario ...</td>\n",
              "      <td>1</td>\n",
              "    </tr>\n",
              "    <tr>\n",
              "      <th>1233</th>\n",
              "      <td>FDA advisory panel rejects J&amp;J drug for acute ...</td>\n",
              "      <td>0</td>\n",
              "    </tr>\n",
              "    <tr>\n",
              "      <th>1234</th>\n",
              "      <td>Gene-editing Chinese scientist kept much of hi...</td>\n",
              "      <td>0</td>\n",
              "    </tr>\n",
              "  </tbody>\n",
              "</table>\n",
              "<p>12091 rows × 2 columns</p>\n",
              "</div>"
            ],
            "text/plain": [
              "                                                   claim  label\n",
              "34656   A baby died at an unnamed medical facility be...      3\n",
              "3632   Bat from Shawnee County tests positive for rab...      0\n",
              "29558  Germany has banned pork from school canteens b...      1\n",
              "8416   Coronavirus prompts Canada to roll out safe dr...      0\n",
              "7169   Wayne National Forest plans fires for tree, wi...      0\n",
              "...                                                  ...    ...\n",
              "1230   Christmas miracle for Florida dog whose heart ...      0\n",
              "1231   Another dolphin dies at Arizona aquatic facility.      0\n",
              "1232   What the facts say\" is ... \"the best scenario ...      1\n",
              "1233   FDA advisory panel rejects J&J drug for acute ...      0\n",
              "1234   Gene-editing Chinese scientist kept much of hi...      0\n",
              "\n",
              "[12091 rows x 2 columns]"
            ]
          },
          "metadata": {}
        }
      ]
    },
    {
      "cell_type": "code",
      "metadata": {
        "id": "1JnBQFRU4-gE"
      },
      "source": [
        "# Once we have preprocessed the dataset, we split it again in train and test subsets\n",
        "from sklearn.model_selection import train_test_split\n",
        "\n",
        "X = df_dataset.claim.values\n",
        "y = df_dataset.label.values\n",
        "\n",
        "X_train, X_val, y_train, y_val = train_test_split(X, y, test_size=0.2, random_state=7) # Split between train and validation\n",
        "X_train, X_test, y_train, y_test = train_test_split(X_train, y_train, test_size=0.25, random_state=7) #Split between train and test"
      ],
      "execution_count": null,
      "outputs": []
    },
    {
      "cell_type": "markdown",
      "metadata": {
        "id": "p93ClkIIvgpl"
      },
      "source": [
        "## 4. Text preprocessing"
      ]
    },
    {
      "cell_type": "markdown",
      "metadata": {
        "id": "7pjlCGpkpAij"
      },
      "source": [
        "### Claim standarization"
      ]
    },
    {
      "cell_type": "markdown",
      "metadata": {
        "id": "lBvGpO7ioEAn"
      },
      "source": [
        "In order to process and classify claims, we need to bring the text into a form that is predictable and analyzable. To do so, we apply the function *claim_processing*."
      ]
    },
    {
      "cell_type": "code",
      "metadata": {
        "id": "LUq36fBMbqul",
        "colab": {
          "base_uri": "https://localhost:8080/"
        },
        "outputId": "d1de70cd-6582-46d0-eaf5-9674be2f43de"
      },
      "source": [
        "nltk.download('stopwords')\n",
        "\n",
        "def claim_preprocessing(claim):\n",
        "    # Lowercasing the sentence\n",
        "    claim = claim.lower() \n",
        "    # Changing 't to 'not'\n",
        "    claim = re.sub(r\"\\'t\", \" not\", claim) \n",
        "    # Removing @name\n",
        "    claim = re.sub(r'(@.*?)[\\s]', ' ', claim)\n",
        "    # Removing punctuations except '?'\n",
        "    claim = re.sub(r'([\\'\\\"\\.\\(\\)\\!\\?\\\\\\/\\,])', r' \\1 ', claim)\n",
        "    claim = re.sub(r'[^\\w\\s\\?]', ' ', claim)\n",
        "    # Removing some special characters\n",
        "    claim = re.sub(r'([\\;\\:\\|•«\\n])', ' ', claim)\n",
        "    # Removing stopwords except 'not' and 'can'\n",
        "    claim = \" \".join([word for word in claim.split()\n",
        "                  if word not in stopwords.words('english')\n",
        "                  or word in ['not', 'can']])\n",
        "    # Remove trailing whitespace\n",
        "    claim = re.sub(r'\\s+', ' ', claim).strip()\n",
        "    \n",
        "    return claim"
      ],
      "execution_count": null,
      "outputs": [
        {
          "output_type": "stream",
          "name": "stdout",
          "text": [
            "[nltk_data] Downloading package stopwords to /root/nltk_data...\n",
            "[nltk_data]   Unzipping corpora/stopwords.zip.\n"
          ]
        }
      ]
    },
    {
      "cell_type": "markdown",
      "metadata": {
        "id": "tv8cKHitpGWY"
      },
      "source": [
        "### Tokenizing"
      ]
    },
    {
      "cell_type": "markdown",
      "metadata": {
        "id": "kxcAqWPiltaX"
      },
      "source": [
        "In order to use a pre-trained BERT model, the input data needs to be converted into an appropriate format in order that each sentence can be sent to the pre-trained model to obtain the corresponding embedding. \n",
        "The tokenizer object allows the conversion from character strings to tokens understood by the different models.\n",
        "\n",
        "In order to tokenize any sentece, next steps need to be followed: \n",
        "\n",
        "*   **Step 1:** Add the [CLS] and [SEP] tokens: [CLS] token at the beginning, and the [SEP] token at the end of each input text.\n",
        "*   **Step 2:** Pad or truncate the sentence to the maximum length allowed: for sentences that are shorter than this maximum length, we will have to add paddings (empty tokens) to the sentences to make up the length.\n",
        "*   **Step 3**: Create the attention masks which explicitly differentiate real tokens from [PAD] tokens\n",
        "\n",
        "*Extracted from Huggingface transformers documentation: https://huggingface.co/transformers/model_doc/bert.html*"
      ]
    },
    {
      "cell_type": "code",
      "metadata": {
        "id": "Z5rbCirGWXIg",
        "colab": {
          "base_uri": "https://localhost:8080/",
          "height": 145,
          "referenced_widgets": [
            "b6c0ddec77454da280c8e3dc10d48b25",
            "458349a6bbd64acebfd8fc20311f0b0f",
            "14d16cfea5324432893b809a9530c627",
            "5d4602c1028448cf9039d59d3d469fa0",
            "6f1b3e0d66cc4ffe81b7af8d6faa7d9b",
            "254cc5bddc1645b4b9f9a5a27d0263de",
            "b7f2eb14678444d084f5fb459f1b0670",
            "6efb1cd4f0df4035949932f4435eb8e5",
            "42c9874aedba4987a228dfe672aefc36",
            "b88097ca21ff4b068afe6ea777bb3eb6",
            "80b4f3898ca14fe5ae83c81a5fbc8b23",
            "98d2e68abfb6449ea1d90a4c3e6fdad4",
            "df3f40239c8f428a81cf4aa1a489ae45",
            "03a17870e3094649962761f6574fe23d",
            "c2b1fa8e01a148dc879309d0c69a1ef2",
            "cf1b2d25c3d245fbaf5a6509985f80e1",
            "e2d22916e75f4f109e5a9a37a1aa6681",
            "06b5de3645e9424cb142376a8691a638",
            "3391f03a12f3451ea1ecb56160cc5b89",
            "8e9ce60a7eea490ba957d86680994499",
            "060c058f2f354373ab25865288960ed4",
            "7db25bd559284afc990136e166182b13",
            "448addc114704cf88c45acc7f7eafb68",
            "a434b219e5e74d70b2ec8cf829292a9e",
            "15c1f44081694e53bd4fae8303b16b14",
            "a50d163ec8cd46aa9307aa4b16f9ef0c",
            "0f846adabb924f4f9c121f1ebaa7ade6",
            "d30fb553552c4b2d8646a969cb4db417",
            "2efddb43ffb04973b49fa9f2a4fb7984",
            "78a234a019384085bc9e2f3bd5964811",
            "eea680586f2b494794d8fa626aa9ca42",
            "3e37c14ea394462e9ebb3eb2bb4f782b",
            "3441643c3d6141c5825ebda6b1f50152",
            "969d135feae34460b0f324e47f23bbbb",
            "1d43ecac14a745669253b8cb2b5f5865",
            "9074ea7ecc944b13a91fe097de64064d",
            "e4f4e66c9fb44515a163fea8bc3aac41",
            "ab3cd9cd16294802b0c78ee41c67c53b",
            "db17200f40f14e1dbfe55b382fb07ce6",
            "897676b278014a6eb403e8e44948e8d4",
            "e29f62e0c24549008e431bad512b42de",
            "07a6ab7995bf4bc0b8b7f9b6239e6930",
            "8e7a9498b1e4490899ce17383866e5fa",
            "40a3792c7bac4362bcc619e3b8775895"
          ]
        },
        "outputId": "e507ca6c-ff7f-42e6-8910-5673cb098b96"
      },
      "source": [
        "from transformers import BertTokenizer\n",
        "\n",
        "# Loading the BERT tokenizer. Each model has its own tokenizer, and some tokenizing methods are different across tokenizers\n",
        "tokenizer = BertTokenizer.from_pretrained('bert-base-uncased', do_lower_case=True) \n",
        "\n",
        "# Creating a function to tokenize claims\n",
        "def preprocessing_claim_for_bert(data):\n",
        "    input_ids = []      # Empty lists to store outputs\n",
        "    attention_masks = []\n",
        "\n",
        "    for claim in data:\n",
        "        encoded_claim = tokenizer.encode_plus(  # Encode the tokens into their corresponding IDs \n",
        "            text = claim_preprocessing(claim),  # Step 0: Preprocessing claim\n",
        "            add_special_tokens=True,        # Step 1: Adding '[CLS]' and '[SEP]'\n",
        "            max_length = MAX_LEN,             # Max length to truncate/pad\n",
        "            pad_to_max_length = True,         # Step 2: Pad sentence to max length\n",
        "            return_attention_mask=True       # Step 3: Return attention mask\n",
        "            )\n",
        "        \n",
        "        # Adding the outputs to the lists\n",
        "        input_ids.append(encoded_claim.get('input_ids'))\n",
        "        attention_masks.append(encoded_claim.get('attention_mask'))\n",
        "\n",
        "    # Converting lists to tensors\n",
        "    input_ids = torch.tensor(input_ids)\n",
        "    attention_masks = torch.tensor(attention_masks)\n",
        "\n",
        "    return input_ids, attention_masks # Returning inputs_ids and attention_masks as tensors"
      ],
      "execution_count": null,
      "outputs": [
        {
          "output_type": "display_data",
          "data": {
            "application/vnd.jupyter.widget-view+json": {
              "model_id": "b6c0ddec77454da280c8e3dc10d48b25",
              "version_minor": 0,
              "version_major": 2
            },
            "text/plain": [
              "Downloading:   0%|          | 0.00/232k [00:00<?, ?B/s]"
            ]
          },
          "metadata": {}
        },
        {
          "output_type": "display_data",
          "data": {
            "application/vnd.jupyter.widget-view+json": {
              "model_id": "98d2e68abfb6449ea1d90a4c3e6fdad4",
              "version_minor": 0,
              "version_major": 2
            },
            "text/plain": [
              "Downloading:   0%|          | 0.00/28.0 [00:00<?, ?B/s]"
            ]
          },
          "metadata": {}
        },
        {
          "output_type": "display_data",
          "data": {
            "application/vnd.jupyter.widget-view+json": {
              "model_id": "448addc114704cf88c45acc7f7eafb68",
              "version_minor": 0,
              "version_major": 2
            },
            "text/plain": [
              "Downloading:   0%|          | 0.00/466k [00:00<?, ?B/s]"
            ]
          },
          "metadata": {}
        },
        {
          "output_type": "display_data",
          "data": {
            "application/vnd.jupyter.widget-view+json": {
              "model_id": "969d135feae34460b0f324e47f23bbbb",
              "version_minor": 0,
              "version_major": 2
            },
            "text/plain": [
              "Downloading:   0%|          | 0.00/570 [00:00<?, ?B/s]"
            ]
          },
          "metadata": {}
        }
      ]
    },
    {
      "cell_type": "code",
      "metadata": {
        "id": "5RjbfNy8WW74",
        "colab": {
          "base_uri": "https://localhost:8080/"
        },
        "outputId": "b37bdd62-0c29-448d-e39a-7bf0e4547cb3"
      },
      "source": [
        "# Concatenating claims \n",
        "all_claims = np.concatenate([df_dataset['claim'].values])\n",
        "\n",
        "# Encode our concatenated data\n",
        "encoded_claims = [tokenizer.encode(claim, add_special_tokens=True) for claim in all_claims]\n",
        "\n",
        "# Finding the maximum length\n",
        "max_len = max([len(claim) for claim in encoded_claims])\n",
        "print('Max length: ', max_len)\n",
        "\n",
        "#Specify 'MAX_LEN'\n",
        "MAX_LEN = max_len\n",
        "\n",
        "# Print sentence 0 and its encoded token ids\n",
        "token_ids = list(preprocessing_claim_for_bert([X[0]])[0].squeeze().numpy())\n",
        "print('Original: ', X[0])\n",
        "print('Token IDs: ', token_ids)\n",
        "\n",
        "# Run function 'preprocessing_claim_for_bert' on the train set and the validation set\n",
        "print('Tokenizing data...')\n",
        "train_inputs, train_masks = preprocessing_claim_for_bert(X_train)\n",
        "val_inputs, val_masks = preprocessing_claim_for_bert(X_val)"
      ],
      "execution_count": null,
      "outputs": [
        {
          "output_type": "stream",
          "name": "stdout",
          "text": [
            "Max length:  104\n",
            "Original:   A baby died at an unnamed medical facility because its parents refused to allow a black nurse to care for the child.\n",
            "Token IDs:  [101, 3336, 2351, 13294, 2966, 4322, 3008, 4188, 3499, 2304, 6821, 2729, 2775, 102, 0, 0, 0, 0, 0, 0, 0, 0, 0, 0, 0, 0, 0, 0, 0, 0, 0, 0, 0, 0, 0, 0, 0, 0, 0, 0, 0, 0, 0, 0, 0, 0, 0, 0, 0, 0, 0, 0, 0, 0, 0, 0, 0, 0, 0, 0, 0, 0, 0, 0, 0, 0, 0, 0, 0, 0, 0, 0, 0, 0, 0, 0, 0, 0, 0, 0, 0, 0, 0, 0, 0, 0, 0, 0, 0, 0, 0, 0, 0, 0, 0, 0, 0, 0, 0, 0, 0, 0, 0, 0]\n",
            "Tokenizing data...\n"
          ]
        }
      ]
    },
    {
      "cell_type": "code",
      "metadata": {
        "id": "yXBLfZ_IWW5H"
      },
      "source": [
        "from torch.utils.data import TensorDataset, DataLoader, RandomSampler, SequentialSampler\n",
        "\n",
        "# Converting other data types to torch.Tensor\n",
        "train_labels = torch.tensor(y_train)\n",
        "val_labels = torch.tensor(y_val)\n",
        "\n",
        "# In order to fine-tune BERT, the authors recommend a batch size of 16 or 32\n",
        "batch_size = 32\n",
        "\n",
        "# Create the DataLoader for our training set\n",
        "train_data = TensorDataset(train_inputs, train_masks, train_labels)\n",
        "train_sampler = RandomSampler(train_data)\n",
        "train_dataloader = DataLoader(train_data, sampler=train_sampler, batch_size=8)\n",
        "\n",
        "# Create the DataLoader for our validation set\n",
        "val_data = TensorDataset(val_inputs, val_masks, val_labels)\n",
        "val_sampler = SequentialSampler(val_data)\n",
        "val_dataloader = DataLoader(val_data, sampler=val_sampler, batch_size=batch_size)"
      ],
      "execution_count": null,
      "outputs": []
    },
    {
      "cell_type": "markdown",
      "metadata": {
        "id": "b9KaXQay-mTf"
      },
      "source": [
        "## 5. Building and training the model - TL from BERT Transformer"
      ]
    },
    {
      "cell_type": "markdown",
      "metadata": {
        "id": "54pZZqFUuV0U"
      },
      "source": [
        "In order to complete the proposed task we will use BERT to train a text classifier. Specifically, we will take the pre-trained BERT model, add an untrained layer of neurons on the end, and train the new model for our classification task. \n",
        "\n",
        "Fine-tunning this modeling has several advantages comparing it to training a specific deep learning model (a CNN, BiLSTM, etc.). Among others:\n",
        "- Less training time: the authors recommend only 2-4 epochs of training for fine-tuning BERT on a specific NLP task \n",
        "- Less data\n",
        "- Good results"
      ]
    },
    {
      "cell_type": "code",
      "metadata": {
        "id": "Zz2Mk_AbSHzG",
        "colab": {
          "base_uri": "https://localhost:8080/"
        },
        "outputId": "fc154418-e428-4ce0-e956-aa834d873f82"
      },
      "source": [
        "import torch\n",
        "\n",
        "if torch.cuda.is_available():       \n",
        "    device = torch.device(\"cuda\")\n",
        "    print(f'There are {torch.cuda.device_count()} GPU(s) available.')\n",
        "    print('Device name:', torch.cuda.get_device_name(0))\n",
        "\n",
        "else:\n",
        "    print('No GPU available, using the CPU instead.')\n",
        "    device = torch.device(\"cpu\")"
      ],
      "execution_count": null,
      "outputs": [
        {
          "output_type": "stream",
          "name": "stdout",
          "text": [
            "There are 1 GPU(s) available.\n",
            "Device name: Tesla K80\n"
          ]
        }
      ]
    },
    {
      "cell_type": "code",
      "metadata": {
        "id": "zKvJmb02WW2n"
      },
      "source": [
        "# Create the BertClassfier class - Model for Classification Tasks\n",
        "class BertClassifier(nn.Module):\n",
        "\n",
        "    def __init__(self, freeze_bert=False): # freeze_bert (bool)'False' to fine-tune the BERT model\n",
        "\n",
        "        super(BertClassifier, self).__init__()\n",
        "        D_in = 768 # Hidden size of BERT\n",
        "        H = 50 # Hidden size of the classifier\n",
        "        D_out = 4 # Number of labels\n",
        "\n",
        "        # Instantiate BERT model\n",
        "        self.bert = BertModel.from_pretrained('bert-base-uncased')\n",
        "\n",
        "        # Instantiate an one-layer feed-forward classifier\n",
        "        self.classifier = nn.Sequential(\n",
        "            nn.Linear(D_in, H),\n",
        "            nn.ReLU(),\n",
        "            nn.Linear(H, D_out)\n",
        "        )\n",
        "\n",
        "        # Freeze the BERT model\n",
        "        if freeze_bert:\n",
        "            for param in self.bert.parameters():\n",
        "                param.requires_grad = False\n",
        "        \n",
        "    def forward(self, input_ids, attention_mask):\n",
        "        \"\"\"\n",
        "        Feed input to BERT and the classifier to compute logits.\n",
        "        @param    input_ids (torch.Tensor): an input tensor with shape (batch_size,\n",
        "                      max_length)\n",
        "        @param    attention_mask (torch.Tensor): a tensor that hold attention mask\n",
        "                      information with shape (batch_size, max_length)\n",
        "        \"\"\"\n",
        "        # Feed input to BERT\n",
        "        outputs = self.bert(input_ids=input_ids,\n",
        "                            attention_mask=attention_mask)\n",
        "        \n",
        "        # Extract the last hidden state of the token '[CLS]' for classification task\n",
        "        last_hidden_state_cls = outputs[0][:, 0, :]\n",
        "\n",
        "        # Feed input to classifier to compute logits\n",
        "        logits = self.classifier(last_hidden_state_cls)\n",
        "\n",
        "        return logits # Output tensor with shape (batch_size, num_labels)"
      ],
      "execution_count": null,
      "outputs": []
    },
    {
      "cell_type": "code",
      "metadata": {
        "id": "HPUNRGBmWWzG"
      },
      "source": [
        "from transformers import AdamW, get_linear_schedule_with_warmup\n",
        "\n",
        "def initialize_model(epochs=4):\n",
        "    \"\"\"Initialize the Bert Classifier, the optimizer and the learning rate scheduler.\n",
        "    \"\"\"\n",
        "    # Instantiate Bert Classifier\n",
        "    bert_classifier = BertClassifier(freeze_bert=False)\n",
        "\n",
        "    # Tell PyTorch to run the model on GPU\n",
        "    bert_classifier.to(device)\n",
        "\n",
        "    # Create the optimizer\n",
        "    optimizer = AdamW(bert_classifier.parameters(),\n",
        "                      lr=2e-5,    # Default learning rate\n",
        "                      eps=1e-8    # Default epsilon value\n",
        "                      )\n",
        "\n",
        "    # Total number of training steps\n",
        "    total_steps = len(train_dataloader) * epochs\n",
        "\n",
        "    # Set up the learning rate scheduler\n",
        "    scheduler = get_linear_schedule_with_warmup(optimizer,\n",
        "                                                num_warmup_steps=0, # Default value\n",
        "                                                num_training_steps=total_steps)\n",
        "    return bert_classifier, optimizer, scheduler"
      ],
      "execution_count": null,
      "outputs": []
    },
    {
      "cell_type": "code",
      "metadata": {
        "id": "hhcvQ3AaWWt9"
      },
      "source": [
        "# Specify loss function\n",
        "loss_fn = nn.CrossEntropyLoss()\n",
        "\n",
        "def set_seed(seed_value=21):\n",
        "    \"\"\"Set seed for reproducibility.\n",
        "    \"\"\"\n",
        "    random.seed(seed_value)\n",
        "    np.random.seed(seed_value)\n",
        "    torch.manual_seed(seed_value)\n",
        "    torch.cuda.manual_seed_all(seed_value)\n",
        "\n",
        "def train(model, train_dataloader, val_dataloader=None, epochs=12, evaluation=False):\n",
        "    \"\"\"Train the BertClassifier model.\n",
        "    \"\"\"\n",
        "    # Start training loop\n",
        "    print(\"Start training...\\n\")\n",
        "    for epoch_i in range(epochs):\n",
        "        # =======================================\n",
        "        #               Training\n",
        "        # =======================================\n",
        "        # Print the header of the result table\n",
        "        print(f\"{'Epoch':^7} | {'Batch':^7} | {'Train Loss':^12} | {'Val Loss':^10} | {'Val Acc':^9} | {'Elapsed':^9}\")\n",
        "        print(\"-\"*70)\n",
        "\n",
        "        # Measure the elapsed time of each epoch\n",
        "        t0_epoch, t0_batch = time.time(), time.time()\n",
        "\n",
        "        # Reset tracking variables at the beginning of each epoch\n",
        "        total_loss, batch_loss, batch_counts = 0, 0, 0\n",
        "\n",
        "        # Put the model into the training mode\n",
        "        model.train()\n",
        "\n",
        "        # For each batch of training data...\n",
        "        for step, batch in enumerate(train_dataloader):\n",
        "            batch_counts +=1\n",
        "            # Load batch to GPU\n",
        "            b_input_ids, b_attn_mask, b_labels = tuple(t.to(device) for t in batch)\n",
        "\n",
        "            # Zero out any previously calculated gradients\n",
        "            model.zero_grad()\n",
        "\n",
        "            # Perform a forward pass. This will return logits.\n",
        "            logits = model(b_input_ids, b_attn_mask)\n",
        "\n",
        "            # Compute loss and accumulate the loss values\n",
        "            loss = loss_fn(logits, b_labels)\n",
        "            batch_loss += loss.item()\n",
        "            total_loss += loss.item()\n",
        "\n",
        "            # Perform a backward pass to calculate gradients\n",
        "            loss.backward()\n",
        "\n",
        "            # Clip the norm of the gradients to 1.0 to prevent \"exploding gradients\"\n",
        "            torch.nn.utils.clip_grad_norm_(model.parameters(), 1.0)\n",
        "\n",
        "            # Update parameters and the learning rate\n",
        "            optimizer.step()\n",
        "            scheduler.step()\n",
        "\n",
        "            # Print the loss values and time elapsed for every 20 batches\n",
        "            if (step % 20 == 0 and step != 0) or (step == len(train_dataloader) - 1):\n",
        "                # Calculate time elapsed for 20 batches\n",
        "                time_elapsed = time.time() - t0_batch\n",
        "\n",
        "                # Print training results\n",
        "                print(f\"{epoch_i + 1:^7} | {step:^7} | {batch_loss / batch_counts:^12.6f} | {'-':^10} | {'-':^9} | {time_elapsed:^9.2f}\")\n",
        "\n",
        "                # Reset batch tracking variables\n",
        "                batch_loss, batch_counts = 0, 0\n",
        "                t0_batch = time.time()\n",
        "\n",
        "        # Calculate the average loss over the entire training data\n",
        "        avg_train_loss = total_loss / len(train_dataloader)\n",
        "\n",
        "        print(\"-\"*70)\n",
        "        # =======================================\n",
        "        #               Evaluation\n",
        "        # =======================================\n",
        "        if evaluation == True:\n",
        "            # After the completion of each training epoch, measure the model's performance on our validation set.\n",
        "            val_loss, val_accuracy = evaluate(model, val_dataloader)\n",
        "\n",
        "            # Print performance over the entire training data\n",
        "            time_elapsed = time.time() - t0_epoch\n",
        "            \n",
        "            print(f\"{epoch_i + 1:^7} | {'-':^7} | {avg_train_loss:^12.6f} | {val_loss:^10.6f} | {val_accuracy:^9.2f} | {time_elapsed:^9.2f}\")\n",
        "            print(\"-\"*70)\n",
        "        print(\"\\n\")\n",
        "    \n",
        "    print(\"Training complete!\")\n",
        "\n",
        "\n",
        "def evaluate(model, val_dataloader):\n",
        "    \"\"\"After the completion of each training epoch, measure the model's performance\n",
        "    on our validation set.\n",
        "    \"\"\"\n",
        "    # Put the model into the evaluation mode. The dropout layers are disabled during the test time.\n",
        "    model.eval()\n",
        "\n",
        "    # Tracking variables\n",
        "    val_accuracy = []\n",
        "    val_loss = []\n",
        "\n",
        "    # For each batch in our validation set...\n",
        "    for batch in val_dataloader:\n",
        "        # Load batch to GPU\n",
        "        b_input_ids, b_attn_mask, b_labels = tuple(t.to(device) for t in batch)\n",
        "\n",
        "        # Compute logits\n",
        "        with torch.no_grad():\n",
        "            logits = model(b_input_ids, b_attn_mask)\n",
        "\n",
        "        # Compute loss\n",
        "        loss = loss_fn(logits, b_labels)\n",
        "        val_loss.append(loss.item())\n",
        "\n",
        "        # Get the predictions\n",
        "        preds = torch.argmax(logits, dim=1).flatten()\n",
        "\n",
        "        # Calculate the accuracy rate\n",
        "        accuracy = (preds == b_labels).cpu().numpy().mean() * 100\n",
        "        val_accuracy.append(accuracy)\n",
        "\n",
        "    # Compute the average accuracy and loss over the validation set.\n",
        "    val_loss = np.mean(val_loss)\n",
        "    val_accuracy = np.mean(val_accuracy)\n",
        "\n",
        "    return val_loss, val_accuracy"
      ],
      "execution_count": null,
      "outputs": []
    },
    {
      "cell_type": "code",
      "metadata": {
        "id": "E9GIKtIFWWrF",
        "colab": {
          "base_uri": "https://localhost:8080/",
          "height": 1000,
          "referenced_widgets": [
            "a8c4b0d1e2c94111b590dba78ac81b95",
            "ea535bc861a14603936e8cbab32f849f",
            "e8c423bbc9ed454d8df967e7c53a5693",
            "284f4010a59e4b2d8bd69b5e9e4ce04b",
            "b10a136f3ee145eb9eba2dee6f9eb80f",
            "008f9003cab14d4bba7215bbfbd4538c",
            "5bffa64255714031bbef5177183927ea",
            "8d2a19f0d6ac499abc2f121327fcb665",
            "cc8261bedd6548c3b45c0ee940c65780",
            "13a13a512ca748148c68f6214439aa69",
            "694b86c4401347bdb267158f5bf30111"
          ]
        },
        "outputId": "f10694c2-c3e8-429f-f5c6-706fcb838196"
      },
      "source": [
        "# Training the model\n",
        "\n",
        "set_seed(21)    # Set seed for reproducibility\n",
        "bert_classifier, optimizer, scheduler = initialize_model(epochs=3)\n",
        "train(bert_classifier, train_dataloader, val_dataloader, epochs=3, evaluation=True)"
      ],
      "execution_count": null,
      "outputs": [
        {
          "output_type": "display_data",
          "data": {
            "application/vnd.jupyter.widget-view+json": {
              "model_id": "a8c4b0d1e2c94111b590dba78ac81b95",
              "version_minor": 0,
              "version_major": 2
            },
            "text/plain": [
              "Downloading:   0%|          | 0.00/440M [00:00<?, ?B/s]"
            ]
          },
          "metadata": {}
        },
        {
          "output_type": "stream",
          "name": "stdout",
          "text": [
            "Start training...\n",
            "\n",
            " Epoch  |  Batch  |  Train Loss  |  Val Loss  |  Val Acc  |  Elapsed \n",
            "----------------------------------------------------------------------\n",
            "   1    |   20    |   1.228920   |     -      |     -     |   7.59   \n",
            "   1    |   40    |   1.111457   |     -      |     -     |   6.95   \n",
            "   1    |   60    |   1.050227   |     -      |     -     |   6.97   \n",
            "   1    |   80    |   1.109736   |     -      |     -     |   6.95   \n",
            "   1    |   100   |   1.079981   |     -      |     -     |   6.91   \n",
            "   1    |   120   |   0.993034   |     -      |     -     |   6.91   \n",
            "   1    |   140   |   1.035402   |     -      |     -     |   6.90   \n",
            "   1    |   160   |   0.895059   |     -      |     -     |   6.93   \n",
            "   1    |   180   |   1.030211   |     -      |     -     |   6.90   \n",
            "   1    |   200   |   1.012641   |     -      |     -     |   6.90   \n",
            "   1    |   220   |   0.965264   |     -      |     -     |   6.91   \n",
            "   1    |   240   |   0.920818   |     -      |     -     |   6.90   \n",
            "   1    |   260   |   0.975133   |     -      |     -     |   6.92   \n",
            "   1    |   280   |   0.929762   |     -      |     -     |   6.89   \n",
            "   1    |   300   |   0.830025   |     -      |     -     |   6.90   \n",
            "   1    |   320   |   0.953721   |     -      |     -     |   6.90   \n",
            "   1    |   340   |   0.958309   |     -      |     -     |   6.89   \n",
            "   1    |   360   |   0.978982   |     -      |     -     |   6.91   \n",
            "   1    |   380   |   0.955858   |     -      |     -     |   6.90   \n",
            "   1    |   400   |   0.898897   |     -      |     -     |   6.90   \n",
            "   1    |   420   |   0.902031   |     -      |     -     |   6.87   \n",
            "   1    |   440   |   0.967866   |     -      |     -     |   6.89   \n",
            "   1    |   460   |   0.961703   |     -      |     -     |   6.89   \n",
            "   1    |   480   |   0.870394   |     -      |     -     |   6.87   \n",
            "   1    |   500   |   0.844258   |     -      |     -     |   6.88   \n",
            "   1    |   520   |   0.894154   |     -      |     -     |   6.89   \n",
            "   1    |   540   |   0.974461   |     -      |     -     |   6.89   \n",
            "   1    |   560   |   0.924187   |     -      |     -     |   6.90   \n",
            "   1    |   580   |   1.027301   |     -      |     -     |   6.88   \n",
            "   1    |   600   |   0.906510   |     -      |     -     |   6.88   \n",
            "   1    |   620   |   0.879576   |     -      |     -     |   6.89   \n",
            "   1    |   640   |   0.861545   |     -      |     -     |   6.87   \n",
            "   1    |   660   |   0.990554   |     -      |     -     |   6.90   \n",
            "   1    |   680   |   0.870618   |     -      |     -     |   6.89   \n",
            "   1    |   700   |   0.845562   |     -      |     -     |   6.90   \n",
            "   1    |   720   |   0.811629   |     -      |     -     |   6.90   \n",
            "   1    |   740   |   0.962969   |     -      |     -     |   6.89   \n",
            "   1    |   760   |   0.849539   |     -      |     -     |   6.91   \n",
            "   1    |   780   |   1.038896   |     -      |     -     |   6.90   \n",
            "   1    |   800   |   0.816804   |     -      |     -     |   6.90   \n",
            "   1    |   820   |   0.945117   |     -      |     -     |   6.90   \n",
            "   1    |   840   |   0.902814   |     -      |     -     |   6.89   \n",
            "   1    |   860   |   0.912033   |     -      |     -     |   6.89   \n",
            "   1    |   880   |   0.824275   |     -      |     -     |   6.88   \n",
            "   1    |   900   |   0.878073   |     -      |     -     |   6.88   \n",
            "   1    |   906   |   0.730950   |     -      |     -     |   2.00   \n",
            "----------------------------------------------------------------------\n",
            "   1    |    -    |   0.945028   |  0.906243  |   63.43   |  341.24  \n",
            "----------------------------------------------------------------------\n",
            "\n",
            "\n",
            " Epoch  |  Batch  |  Train Loss  |  Val Loss  |  Val Acc  |  Elapsed \n",
            "----------------------------------------------------------------------\n",
            "   2    |   20    |   0.792462   |     -      |     -     |   7.24   \n",
            "   2    |   40    |   0.792471   |     -      |     -     |   6.88   \n",
            "   2    |   60    |   0.758139   |     -      |     -     |   6.89   \n",
            "   2    |   80    |   0.784620   |     -      |     -     |   6.90   \n",
            "   2    |   100   |   0.832665   |     -      |     -     |   6.89   \n",
            "   2    |   120   |   0.904928   |     -      |     -     |   6.89   \n",
            "   2    |   140   |   0.897050   |     -      |     -     |   6.89   \n",
            "   2    |   160   |   0.770984   |     -      |     -     |   6.89   \n",
            "   2    |   180   |   0.792043   |     -      |     -     |   6.88   \n",
            "   2    |   200   |   0.763956   |     -      |     -     |   6.89   \n",
            "   2    |   220   |   0.794198   |     -      |     -     |   6.89   \n",
            "   2    |   240   |   0.772642   |     -      |     -     |   6.90   \n",
            "   2    |   260   |   0.772181   |     -      |     -     |   6.89   \n",
            "   2    |   280   |   0.763945   |     -      |     -     |   6.90   \n",
            "   2    |   300   |   0.753573   |     -      |     -     |   6.89   \n",
            "   2    |   320   |   0.687999   |     -      |     -     |   6.90   \n",
            "   2    |   340   |   0.919880   |     -      |     -     |   6.89   \n",
            "   2    |   360   |   0.703702   |     -      |     -     |   6.88   \n",
            "   2    |   380   |   0.785651   |     -      |     -     |   6.90   \n",
            "   2    |   400   |   0.847261   |     -      |     -     |   6.88   \n",
            "   2    |   420   |   0.751060   |     -      |     -     |   6.90   \n",
            "   2    |   440   |   0.767992   |     -      |     -     |   6.88   \n",
            "   2    |   460   |   0.863741   |     -      |     -     |   6.89   \n",
            "   2    |   480   |   0.826605   |     -      |     -     |   6.92   \n",
            "   2    |   500   |   0.871011   |     -      |     -     |   6.88   \n",
            "   2    |   520   |   0.727221   |     -      |     -     |   6.89   \n",
            "   2    |   540   |   0.678021   |     -      |     -     |   6.89   \n",
            "   2    |   560   |   0.792020   |     -      |     -     |   6.89   \n",
            "   2    |   580   |   0.727574   |     -      |     -     |   6.91   \n",
            "   2    |   600   |   0.758740   |     -      |     -     |   6.89   \n",
            "   2    |   620   |   0.666426   |     -      |     -     |   6.89   \n",
            "   2    |   640   |   0.666711   |     -      |     -     |   6.88   \n",
            "   2    |   660   |   0.714892   |     -      |     -     |   6.86   \n",
            "   2    |   680   |   0.800146   |     -      |     -     |   6.88   \n",
            "   2    |   700   |   0.849730   |     -      |     -     |   6.87   \n",
            "   2    |   720   |   0.889308   |     -      |     -     |   6.89   \n",
            "   2    |   740   |   0.786755   |     -      |     -     |   6.85   \n",
            "   2    |   760   |   0.810347   |     -      |     -     |   6.86   \n",
            "   2    |   780   |   0.859807   |     -      |     -     |   6.88   \n",
            "   2    |   800   |   0.807972   |     -      |     -     |   6.86   \n",
            "   2    |   820   |   0.813377   |     -      |     -     |   6.86   \n",
            "   2    |   840   |   0.782638   |     -      |     -     |   6.87   \n",
            "   2    |   860   |   0.863526   |     -      |     -     |   6.85   \n",
            "   2    |   880   |   0.730590   |     -      |     -     |   6.87   \n",
            "   2    |   900   |   0.729562   |     -      |     -     |   6.86   \n",
            "   2    |   906   |   0.682026   |     -      |     -     |   1.99   \n",
            "----------------------------------------------------------------------\n",
            "   2    |    -    |   0.786557   |  0.905848  |   63.76   |  340.00  \n",
            "----------------------------------------------------------------------\n",
            "\n",
            "\n",
            " Epoch  |  Batch  |  Train Loss  |  Val Loss  |  Val Acc  |  Elapsed \n",
            "----------------------------------------------------------------------\n",
            "   3    |   20    |   0.613655   |     -      |     -     |   7.17   \n",
            "   3    |   40    |   0.727505   |     -      |     -     |   6.87   \n",
            "   3    |   60    |   0.710089   |     -      |     -     |   6.87   \n",
            "   3    |   80    |   0.688568   |     -      |     -     |   6.89   \n",
            "   3    |   100   |   0.587081   |     -      |     -     |   6.88   \n",
            "   3    |   120   |   0.654165   |     -      |     -     |   6.87   \n",
            "   3    |   140   |   0.629772   |     -      |     -     |   6.87   \n",
            "   3    |   160   |   0.642532   |     -      |     -     |   6.86   \n",
            "   3    |   180   |   0.702067   |     -      |     -     |   6.87   \n",
            "   3    |   200   |   0.603549   |     -      |     -     |   6.87   \n",
            "   3    |   220   |   0.608902   |     -      |     -     |   6.86   \n",
            "   3    |   240   |   0.784529   |     -      |     -     |   6.87   \n",
            "   3    |   260   |   0.685962   |     -      |     -     |   6.86   \n",
            "   3    |   280   |   0.696120   |     -      |     -     |   6.85   \n",
            "   3    |   300   |   0.645682   |     -      |     -     |   6.87   \n",
            "   3    |   320   |   0.647730   |     -      |     -     |   6.85   \n",
            "   3    |   340   |   0.610667   |     -      |     -     |   6.86   \n",
            "   3    |   360   |   0.583982   |     -      |     -     |   6.88   \n",
            "   3    |   380   |   0.691808   |     -      |     -     |   6.97   \n",
            "   3    |   400   |   0.523169   |     -      |     -     |   6.98   \n",
            "   3    |   420   |   0.636825   |     -      |     -     |   6.96   \n",
            "   3    |   440   |   0.610679   |     -      |     -     |   6.99   \n",
            "   3    |   460   |   0.744571   |     -      |     -     |   6.97   \n",
            "   3    |   480   |   0.678782   |     -      |     -     |   6.99   \n",
            "   3    |   500   |   0.627403   |     -      |     -     |   6.96   \n",
            "   3    |   520   |   0.625332   |     -      |     -     |   6.96   \n",
            "   3    |   540   |   0.656850   |     -      |     -     |   6.99   \n",
            "   3    |   560   |   0.664728   |     -      |     -     |   6.94   \n",
            "   3    |   580   |   0.655664   |     -      |     -     |   6.97   \n",
            "   3    |   600   |   0.610081   |     -      |     -     |   6.96   \n",
            "   3    |   620   |   0.675326   |     -      |     -     |   6.96   \n",
            "   3    |   640   |   0.642578   |     -      |     -     |   6.97   \n",
            "   3    |   660   |   0.677244   |     -      |     -     |   6.94   \n",
            "   3    |   680   |   0.594371   |     -      |     -     |   6.96   \n",
            "   3    |   700   |   0.619889   |     -      |     -     |   6.94   \n",
            "   3    |   720   |   0.668172   |     -      |     -     |   6.85   \n",
            "   3    |   740   |   0.686698   |     -      |     -     |   6.85   \n",
            "   3    |   760   |   0.646269   |     -      |     -     |   6.85   \n",
            "   3    |   780   |   0.667966   |     -      |     -     |   6.87   \n",
            "   3    |   800   |   0.647511   |     -      |     -     |   6.86   \n",
            "   3    |   820   |   0.700723   |     -      |     -     |   6.88   \n",
            "   3    |   840   |   0.605658   |     -      |     -     |   6.89   \n",
            "   3    |   860   |   0.652797   |     -      |     -     |   6.89   \n",
            "   3    |   880   |   0.637712   |     -      |     -     |   6.90   \n",
            "   3    |   900   |   0.509516   |     -      |     -     |   6.91   \n",
            "   3    |   906   |   0.584287   |     -      |     -     |   2.00   \n",
            "----------------------------------------------------------------------\n",
            "   3    |    -    |   0.648001   |  0.968370  |   62.77   |  341.16  \n",
            "----------------------------------------------------------------------\n",
            "\n",
            "\n",
            "Training complete!\n"
          ]
        }
      ]
    },
    {
      "cell_type": "markdown",
      "metadata": {
        "id": "fNgmVcve1ycl"
      },
      "source": [
        "## 6. Performance evaluation"
      ]
    },
    {
      "cell_type": "markdown",
      "metadata": {
        "id": "wsBcKTwk1WLF"
      },
      "source": [
        "### Setup test dataset for BERT\n"
      ]
    },
    {
      "cell_type": "code",
      "metadata": {
        "id": "3GMxiz4-SHbr",
        "colab": {
          "base_uri": "https://localhost:8080/"
        },
        "outputId": "69d69285-3390-4443-b1b2-507c6c83226b"
      },
      "source": [
        "# Running 'preprocessing_claim_for_bert' on the test set\n",
        "print('Tokenizing data...')\n",
        "test_inputs, test_masks = preprocessing_claim_for_bert(X_test)\n",
        "\n",
        "test_labels = torch.tensor(y_test)\n",
        "\n",
        "# Creating the DataLoader for our test set\n",
        "test_dataset = TensorDataset(test_inputs, test_masks)\n",
        "test_sampler = SequentialSampler(test_dataset)\n",
        "test_dataloader = DataLoader(test_dataset, sampler=test_sampler, batch_size=32)"
      ],
      "execution_count": null,
      "outputs": [
        {
          "output_type": "stream",
          "name": "stdout",
          "text": [
            "Tokenizing data...\n"
          ]
        }
      ]
    },
    {
      "cell_type": "markdown",
      "metadata": {
        "id": "1mYj0suR2nKu"
      },
      "source": [
        "### Compute predicted probabilities on the test set"
      ]
    },
    {
      "cell_type": "code",
      "metadata": {
        "id": "pZbiDbgSWWoJ"
      },
      "source": [
        "def bert_predict(model, test_dataloader):\n",
        "    \"\"\"Perform a forward pass on the trained BERT model to predict probabilities on the test set.\n",
        "    \"\"\"\n",
        "    # Put the model into the evaluation mode. The dropout layers are disabled during the test time.\n",
        "    model.eval()\n",
        "    all_logits = []\n",
        "\n",
        "    # For each batch in our test set...\n",
        "    for batch in test_dataloader:\n",
        "        # Load batch to GPU\n",
        "        b_input_ids, b_attn_mask = tuple(t.to(device) for t in batch)[:2]\n",
        "\n",
        "        # Compute logits\n",
        "        with torch.no_grad():\n",
        "            logits = model(b_input_ids, b_attn_mask)\n",
        "        all_logits.append(logits)\n",
        "    \n",
        "    # Concatenate logits from each batch\n",
        "    all_logits = torch.cat(all_logits, dim=0)\n",
        "\n",
        "    # Apply softmax to calculate probabilities\n",
        "    probs = F.softmax(all_logits, dim=1).cpu().numpy()\n",
        "\n",
        "    return probs # Output tensor with shape (batch_size, num_labels)"
      ],
      "execution_count": null,
      "outputs": []
    },
    {
      "cell_type": "code",
      "metadata": {
        "id": "4TClxDKEWWfb"
      },
      "source": [
        "# Compute predicted probabilities on the test set\n",
        "probs = bert_predict(bert_classifier, test_dataloader)"
      ],
      "execution_count": null,
      "outputs": []
    },
    {
      "cell_type": "code",
      "metadata": {
        "id": "o84Xx6pp5L_t"
      },
      "source": [
        "def evaluate_classifier(probs, y_true):\n",
        "    preds = probs[:, 1]\n",
        "       \n",
        "    # Get accuracy over the test set\n",
        "    y_pred = np.argmax(probs, axis=1, out=None)\n",
        "    accuracy = accuracy_score(y_true, y_pred)\n",
        "    print(f'Accuracy: {accuracy*100:.2f}%')\n",
        "\n",
        "    # Plot a multilabel confusion matrix\n",
        "    fig = plt.figure()\n",
        "    skplt.metrics.plot_confusion_matrix(y_true, y_pred, figsize=(12,15))\n",
        "    fig.suptitle('Confusion Matrix', fontsize=16)\n",
        "\n",
        "    # Get Classification Report\n",
        "    print(pd.DataFrame(classification_report(y_true, y_pred, output_dict=True)))"
      ],
      "execution_count": null,
      "outputs": []
    },
    {
      "cell_type": "code",
      "metadata": {
        "colab": {
          "base_uri": "https://localhost:8080/",
          "height": 1000
        },
        "id": "HfYszkgA4jsR",
        "outputId": "2fc98406-33e6-418f-d417-b9103daa93f4"
      },
      "source": [
        "# Evaluate the Bert classifier\n",
        "evaluate_classifier(probs, test_labels)"
      ],
      "execution_count": null,
      "outputs": [
        {
          "output_type": "stream",
          "name": "stdout",
          "text": [
            "Accuracy: 61.58%\n",
            "                     0           1  ...    macro avg  weighted avg\n",
            "precision     0.761170    0.513948  ...     0.390348      0.587097\n",
            "recall        0.760552    0.649932  ...     0.403315      0.615798\n",
            "f1-score      0.760861    0.573996  ...     0.393064      0.597965\n",
            "support    1232.000000  737.000000  ...  2418.000000   2418.000000\n",
            "\n",
            "[4 rows x 7 columns]\n"
          ]
        },
        {
          "output_type": "display_data",
          "data": {
            "text/plain": [
              "<Figure size 432x288 with 0 Axes>"
            ]
          },
          "metadata": {}
        },
        {
          "output_type": "display_data",
          "data": {
            "image/png": "[encoded data removed]",
            "text/plain": [
              "<Figure size 864x1080 with 2 Axes>"
            ]
          },
          "metadata": {
            "needs_background": "light"
          }
        }
      ]
    },
    {
      "cell_type": "markdown",
      "metadata": {
        "id": "MFRHl-xvBgU7"
      },
      "source": [
        "When we use the trained model to predict the veracity on the unseen test dataset, the confusion matrix clearly shows how the model overfits to the majority True and False classes.\n",
        "\n",
        "Model performance can be increased with using additional techniques as Data Augmentation given that the input dataset is clearly bias including as the vast majority claims categorized as True and False."
      ]
    },
    {
      "cell_type": "markdown",
      "metadata": {
        "id": "BA1ZRmMRmsGP"
      },
      "source": [
        "## Trying out the model with a new health claim"
      ]
    },
    {
      "cell_type": "markdown",
      "metadata": {
        "id": "w2V3fA-FnnKN"
      },
      "source": [
        "Once we have a final model we apply it to a different health claim from a different source: \n",
        "\n",
        "**External claim:** *Receiving many vaccines for different diseases at the same time increases the risk of undesirable effects and can overload the immune system*\n",
        "\n",
        "**Label:** False. \n",
        "\n",
        "Rationale found in http://proyectoavatar.enfermeriacomunitaria.org/vacunas/mitos-y-realidades (13rd Myth)"
      ]
    },
    {
      "cell_type": "code",
      "metadata": {
        "id": "BtwEygSmnsa-"
      },
      "source": [
        "external_claim = \"Receiving many vaccines for different diseases at the same time increases the risk of undesirable effects and can overload the immune system\""
      ],
      "execution_count": null,
      "outputs": []
    },
    {
      "cell_type": "code",
      "metadata": {
        "colab": {
          "base_uri": "https://localhost:8080/"
        },
        "id": "-nuAdhslmzt8",
        "outputId": "6f0f093a-39ca-4891-9830-7ec3c0e061a2"
      },
      "source": [
        "# Running 'preprocessing_claim_for_bert' on the external claim\n",
        "print('Tokenizing data...')\n",
        "b_input_ids, b_attn_mask = preprocessing_claim_for_bert(external_claim)\n",
        "\n",
        "print('Applying BERT tokenizer prediction..')\n",
        "with torch.no_grad():\n",
        "    logits = bert_classifier(b_input_ids.to(device), b_attn_mask.to(device))\n",
        "    probs = F.softmax(logits, dim=1).cpu().numpy()\n",
        "    y_pred = np.unique(np.argmax(probs, axis=1, out=None))"
      ],
      "execution_count": null,
      "outputs": [
        {
          "output_type": "stream",
          "name": "stdout",
          "text": [
            "Tokenizing data...\n",
            "Applying BERT tokenizer prediction..\n"
          ]
        }
      ]
    },
    {
      "cell_type": "code",
      "metadata": {
        "colab": {
          "base_uri": "https://localhost:8080/"
        },
        "id": "gJ7qHdgN1qyU",
        "outputId": "1972cebd-8c9d-4946-805b-979fd0e894fb"
      },
      "source": [
        "def veracity_prediction(y_pred):\n",
        "  if str(y_pred[0]) == '0':\n",
        "    return 'True'\n",
        "  if str(y_pred[0]) == '1':\n",
        "    return 'False'\n",
        "  if str(y_pred[0]) == '2':\n",
        "    return 'Mixture'\n",
        "  if str(y_pred[0]) == '3':\n",
        "    return 'Unproven'\n",
        "\n",
        "print('Veracity prediction: ' + veracity_prediction(y_pred))"
      ],
      "execution_count": null,
      "outputs": [
        {
          "output_type": "stream",
          "name": "stdout",
          "text": [
            "Veracity prediction: True\n"
          ]
        }
      ]
    }
  ]
}